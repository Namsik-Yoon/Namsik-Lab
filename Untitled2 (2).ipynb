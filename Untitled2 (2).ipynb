{
 "cells": [
  {
   "cell_type": "markdown",
   "metadata": {},
   "source": [
    "트위터 크롤링"
   ]
  },
  {
   "cell_type": "code",
   "execution_count": 1,
   "metadata": {},
   "outputs": [
    {
     "name": "stdout",
     "output_type": "stream",
     "text": [
      "Requirement already satisfied: GetOldTweets3 in c:\\users\\skatl\\appdata\\local\\continuum\\anaconda3\\lib\\site-packages (0.0.11)\n",
      "Requirement already satisfied: pyquery>=1.2.10 in c:\\users\\skatl\\appdata\\local\\continuum\\anaconda3\\lib\\site-packages (from GetOldTweets3) (1.4.1)\n",
      "Requirement already satisfied: lxml>=3.5.0 in c:\\users\\skatl\\appdata\\local\\continuum\\anaconda3\\lib\\site-packages (from GetOldTweets3) (4.4.1)\n",
      "Requirement already satisfied: cssselect>0.7.9 in c:\\users\\skatl\\appdata\\local\\continuum\\anaconda3\\lib\\site-packages (from pyquery>=1.2.10->GetOldTweets3) (1.1.0)\n"
     ]
    }
   ],
   "source": [
    "!pip install GetOldTweets3\n",
    "import GetOldTweets3 as got"
   ]
  },
  {
   "cell_type": "code",
   "execution_count": 2,
   "metadata": {},
   "outputs": [
    {
     "name": "stdout",
     "output_type": "stream",
     "text": [
      "=== 설정된 트윗 수집 기간은 2020-02-01 에서 2020-05-30 까지 입니다 ===\n",
      "=== 총 120일 간의 데이터 수집 ===\n"
     ]
    }
   ],
   "source": [
    "# 가져올 범위를 정의\n",
    "# 예제 : 2020-02-01 ~ 2020-05-31\n",
    "\n",
    "import datetime\n",
    "\n",
    "days_range = []\n",
    "\n",
    "start = datetime.datetime.strptime(\"2020-02-01\", \"%Y-%m-%d\")\n",
    "end = datetime.datetime.strptime(\"2020-05-31\", \"%Y-%m-%d\")\n",
    "date_generated = [start + datetime.timedelta(days=x) for x in range(0, (end-start).days)]\n",
    "\n",
    "for date in date_generated:\n",
    "    days_range.append(date.strftime(\"%Y-%m-%d\"))\n",
    "\n",
    "print(\"=== 설정된 트윗 수집 기간은 {} 에서 {} 까지 입니다 ===\".format(days_range[0], days_range[-1]))\n",
    "print(\"=== 총 {}일 간의 데이터 수집 ===\".format(len(days_range)))"
   ]
  },
  {
   "cell_type": "code",
   "execution_count": 5,
   "metadata": {},
   "outputs": [
    {
     "name": "stdout",
     "output_type": "stream",
     "text": [
      "Collecting data start.. from 2020-02-01 to 2020-05-30\n",
      "Collecting data end.. 6.56 Minutes\n",
      "=== Total num of tweets is 4524 ===\n"
     ]
    }
   ],
   "source": [
    "# 특정 검색어가 포함된 트윗 검색하기 (quary search)\n",
    "# 검색어 : 버스, 대중교통, 대중 교통, 시내버스\n",
    "\n",
    "import time\n",
    "\n",
    "# 수집 기간 맞추기\n",
    "start_date = days_range[0]\n",
    "end_date = (datetime.datetime.strptime(days_range[-1], \"%Y-%m-%d\") \n",
    "            + datetime.timedelta(days=1)).strftime(\"%Y-%m-%d\") # setUntil이 끝을 포함하지 않으므로, day + 1\n",
    "\n",
    "# 트윗 수집 기준 정의\n",
    "tweetCriteria = got.manager.TweetCriteria().setQuerySearch('버스 OR 대중교통 OR 대중 교통 OR 시내버스')\\\n",
    "                                           .setSince(start_date)\\\n",
    "                                           .setUntil(end_date)\\\n",
    "                                           .setMaxTweets(-1)\n",
    "\n",
    "# 수집 with GetOldTweet3\n",
    "print(\"Collecting data start.. from {} to {}\".format(days_range[0], days_range[-1]))\n",
    "start_time = time.time()\n",
    "\n",
    "tweets = got.manager.TweetManager.getTweets(tweetCriteria)\n",
    "\n",
    "print(\"Collecting data end.. {0:0.2f} Minutes\".format((time.time() - start_time)/60))\n",
    "print(\"=== Total num of tweets is {} ===\".format(len(tweets)))"
   ]
  },
  {
   "cell_type": "code",
   "execution_count": 6,
   "metadata": {},
   "outputs": [],
   "source": [
    "tweet_sentences = [tweet.text for tweet in tweets] ## 트윗 내용을 리스트형식으로 변환"
   ]
  },
  {
   "cell_type": "code",
   "execution_count": 7,
   "metadata": {},
   "outputs": [
    {
     "name": "stdout",
     "output_type": "stream",
     "text": [
      "1949년 17개 사에서 30개 노선을 운영한 것이 현재 서울특별시 시내버스의 시초입니다. 당시 운행업체 중 하나인 서울승합은 현재 가장 오래된 운행업체 중 하나로, 보성운수, 서부운수, 경성여객 등 다수의 회사가 이곳에서 분리되었습니다.\n",
      "--------------------------------------------------\n",
      "(안내) 한국도로공사는 도로 위 후방 추돌사고를 방지하기 위해 특수 스티커 무상 부착 캠패인을 전국 주요 휴게소에서 화물차.버스를 대상으로 7월까지 실시함. #tbnkorea\n",
      "--------------------------------------------------\n",
      "연로하신 어르신께서 쉼터에 어떻게 대중교통 타고 오나요? 부산갈때 예전에 비해 교통이 좋아졌다라고 하죠? 부산은 아주 먼 거리입니다. 교통이 좋다는 말은 그렇게 해석하죠. 또 쉼터의 쟁점은 교통이 아닌것으로 알고 있습니다. 공사비에 대한 해명은 쉽게 찾아 보실수 있으실 겁니다.\n",
      "--------------------------------------------------\n",
      "아닌말로 버스가 한시간에 한대 다니는 그 안성 오지에 쉼터를 마련해놓구선 교통이 좋아서 선정했다는 사람말을 뭐라고 믿나요?\n",
      "--------------------------------------------------\n",
      "https://namu.wiki/w/%EC%95%88%EC%82%B0%20%EB%B2%84%EC%8A%A4%205 연계교통: 안산 버스 5번\n",
      "--------------------------------------------------\n"
     ]
    }
   ],
   "source": [
    "for i in range(5):\n",
    "    print(tweet_sentences[i])\n",
    "    print('-'*50)"
   ]
  },
  {
   "cell_type": "code",
   "execution_count": 8,
   "metadata": {},
   "outputs": [
    {
     "name": "stdout",
     "output_type": "stream",
     "text": [
      "총 샘플의 개수 : 4524\n"
     ]
    }
   ],
   "source": [
    "print('총 샘플의 개수 : {}'.format(len(tweet_sentences)))"
   ]
  },
  {
   "cell_type": "code",
   "execution_count": 29,
   "metadata": {},
   "outputs": [],
   "source": [
    "import pickle\n",
    "pickle.dump(tweet_sentences,open('tweet_sentences.txt','wb'))"
   ]
  },
  {
   "cell_type": "markdown",
   "metadata": {},
   "source": [
    "네이버 뉴스 크롤링"
   ]
  },
  {
   "cell_type": "code",
   "execution_count": 15,
   "metadata": {},
   "outputs": [],
   "source": [
    "import requests\n",
    "from bs4 import BeautifulSoup\n",
    "import pandas as pd\n",
    "\n",
    "client_id = \"milKQgIJC5ZLNGm92XSl\"\n",
    "client_secret = \"sIvwKqAFbu\""
   ]
  },
  {
   "cell_type": "code",
   "execution_count": 16,
   "metadata": {},
   "outputs": [
    {
     "name": "stdout",
     "output_type": "stream",
     "text": [
      "<Response [200]>\n"
     ]
    }
   ],
   "source": [
    "search_word = '시내버스' #검색어\n",
    "encode_type = 'json' #출력 방식 json 또는 xml\n",
    "max_display = 100 #출력 뉴스 수\n",
    "sort = 'sim' #결과값의 정렬기준 시간순 date, 관련도 순 sim\n",
    "start = 1 # 출력 위치\n",
    "\n",
    "url = f\"https://openapi.naver.com/v1/search/news.{encode_type}?query={search_word}&display={str(int(max_display))}&start={str(int(start))}&sort={sort}\"\n",
    "\n",
    "#헤더에 아이디와 키 정보 넣기\n",
    "headers = {'X-Naver-Client-Id' : client_id,\n",
    "           'X-Naver-Client-Secret':client_secret\n",
    "           }\n",
    "\n",
    "#HTTP요청 보내기\n",
    "r = requests.get(url, headers=headers)\n",
    "#요청 결과 보기 200 이면 정상적으로 요청 완료\n",
    "print(r)"
   ]
  },
  {
   "cell_type": "code",
   "execution_count": 17,
   "metadata": {},
   "outputs": [
    {
     "data": {
      "text/plain": [
       "['https://news.naver.com/main/read.nhn?mode=LSD&mid=sec&sid1=102&oid=052&aid=0001447219',\n",
       " 'https://news.naver.com/main/read.nhn?mode=LSD&mid=sec&sid1=102&oid=421&aid=0004676251']"
      ]
     },
     "execution_count": 17,
     "metadata": {},
     "output_type": "execute_result"
    }
   ],
   "source": [
    "links = [x['link'] for x in r.json()['items'] if 'naver' in x['link']]\n",
    "links[:2]"
   ]
  },
  {
   "cell_type": "code",
   "execution_count": 18,
   "metadata": {},
   "outputs": [],
   "source": [
    "req = requests.get(links[0])\n",
    "html_parser = BeautifulSoup(req.content,'html.parser')\n",
    "title = html_parser.select('h3#articleTitle')[0].text\n",
    "contents = html_parser.select('#articleBodyContents')[0].get_text().replace('\\n', \"\")\n",
    "contents = contents.replace(\"// flash 오류를 우회하기 위한 함수 추가function _flash_removeCallback() {}\", \"\")\n",
    "contents = contents[:contents.find('▶')]"
   ]
  },
  {
   "cell_type": "code",
   "execution_count": 19,
   "metadata": {},
   "outputs": [
    {
     "name": "stdout",
     "output_type": "stream",
     "text": [
      "\"무료 시내버스는 복지\"...강원 정선 완전공영제 도입\n",
      "동영상 뉴스\t\t[앵커]노인 인구가 많은 강원도에서 처음으로 정선군이 시내버스 완전 공영제를 도입했습니다.시내버스 문제를 교통이 아닌 주민 복지 정책으로 접근했다고 하는데요.시행 첫날, 지 환 기자가 다녀왔습니다.[기자]읍내 5일 장에 가기 위해 시내버스를 타는 어르신들.6월부터 달라진 게 있습니다.적게는 1,400원, 많게는 5천 원이 넘던 시내버스 요금을 내지 않아도 됩니다.[정용순 / 강원 정선군 주민 : 좋죠. 뭐. (뭐가 제일 좋으세요?) 돈 안 들어가니 좋지. 늙은이들이 무슨 돈이 있어.]강원도 정선군이 시내버스 완전공영제를 도입했습니다.자치단체가 버스 회사를 인수해서 노선부터 배차 횟수까지 새로 정했는데 가장 달라진 건 요금입니다.65세 이상 어르신과 초·중·고등학생, 장애인, 기초수급권자 등은 무료,그 외 주민과 관광객은 무조건 1,000원입니다.[고재균 / 정선군 와와버스 기사 : 공용버스 되고 나서 많이 편리해졌다고 말씀하세요.(좋아하세요?) 네.]65세 이상 어르신 등 교통 약자에게 정선군은 무료 교통 카드를 보급했습니다.발급 대상자가 16,000명 정도인데, 정선군민 전체로 따져보면 10명 가운데 4명이 혜택을 받게 됩니다.필요한 예산은 한 해 35억 원, 정선군은 버스회사에 주던 손실보전금 24억 원에서 10억 원 정도를 더 마련할 계획입니다.노인 인구가 많은 만큼 시내버스를 교통 정책이 아닌 복지 정책으로 접근했습니다.[최승준 / 강원 정선군수 : 누구나 다 내가 어디든 가고 싶을 때 편리하게 이용할 수 있다는 차원에서 하나의 커다란 복지라고 보고 있는 것이죠.]춘천이나 원주 등 강원 지역뿐 아니라 전국 곳곳에서 완전공영제 논의가 이어지고 있습니다.강원도 내에서 처음 시행된 정선군의 교통 복지 실험이 어떤 결과를 가져올지 주목됩니다.YTN 지환[haji@ytn.co.kr]입니다.※ '당신의 제보가 뉴스가 됩니다' YTN은 여러분의 소중한 제보를 기다립니다.[카카오톡] YTN을 검색해 채널 추가 [전화] 02-398-8585 [메일] social@ytn.co.kr [온라인 제보] www.ytn.co.kr[저작권자(c) YTN & YTN PLUS 무단전재 및 재배포 금지] \n"
     ]
    }
   ],
   "source": [
    "print(title)\n",
    "print(contents)"
   ]
  },
  {
   "cell_type": "code",
   "execution_count": 20,
   "metadata": {
    "scrolled": true
   },
   "outputs": [
    {
     "name": "stdout",
     "output_type": "stream",
     "text": [
      "0\n",
      "100\n",
      "200\n",
      "300\n",
      "400\n",
      "500\n",
      "500\n",
      "600\n",
      "700\n",
      "800\n",
      "800\n",
      "900\n",
      "900\n",
      "900\n",
      "1000\n",
      "1000\n",
      "1100\n",
      "1200\n",
      "1300\n",
      "1300\n",
      "1400\n",
      "1500\n",
      "1600\n",
      "1700\n",
      "1800\n",
      "1900\n",
      "2000\n",
      "2100\n",
      "2100\n",
      "2200\n",
      "2300\n",
      "2400\n",
      "2500\n",
      "2600\n",
      "2700\n",
      "2800\n",
      "2900\n",
      "2900\n",
      "3000\n",
      "3100\n",
      "3100\n",
      "3200\n",
      "3300\n",
      "3400\n",
      "3500\n",
      "3600\n",
      "3600\n",
      "3700\n",
      "3800\n",
      "3800\n",
      "3800\n",
      "3900\n",
      "3900\n",
      "4000\n",
      "4100\n",
      "4100\n",
      "4200\n",
      "4300\n",
      "4400\n",
      "4500\n",
      "4500\n",
      "4600\n",
      "4700\n",
      "4800\n",
      "4900\n",
      "5000\n",
      "5100\n",
      "5100\n",
      "5200\n",
      "5200\n",
      "5300\n",
      "5400\n",
      "5500\n",
      "5600\n",
      "5700\n",
      "5700\n",
      "5800\n",
      "5900\n",
      "6000\n",
      "6100\n",
      "6200\n",
      "6300\n",
      "6300\n",
      "6400\n",
      "6500\n",
      "6600\n",
      "6700\n",
      "6800\n",
      "6900\n",
      "7000\n",
      "7100\n",
      "7200\n",
      "7200\n",
      "7300\n",
      "7400\n",
      "7500\n",
      "7600\n",
      "7700\n",
      "7800\n",
      "7900\n",
      "8000\n",
      "8100\n",
      "8100\n",
      "8200\n",
      "8300\n",
      "8400\n",
      "8500\n",
      "8600\n",
      "8700\n",
      "8800\n",
      "8900\n",
      "9000\n",
      "9100\n",
      "9200\n",
      "9300\n",
      "9400\n",
      "9500\n",
      "9600\n",
      "9700\n",
      "9800\n",
      "9900\n",
      "10000\n",
      "10100\n",
      "10200\n",
      "10300\n",
      "10400\n",
      "10500\n",
      "10600\n",
      "10700\n",
      "10800\n",
      "10900\n",
      "11000\n",
      "11100\n",
      "11200\n",
      "11300\n",
      "11400\n",
      "11500\n",
      "11600\n",
      "11700\n",
      "11800\n",
      "11900\n",
      "12000\n",
      "12000\n",
      "12100\n",
      "12200\n",
      "12300\n",
      "12400\n",
      "12500\n",
      "12500\n",
      "12600\n",
      "12700\n",
      "12800\n",
      "12900\n",
      "13000\n",
      "13100\n",
      "13100\n",
      "13200\n",
      "13300\n",
      "13400\n",
      "13500\n",
      "13600\n",
      "13700\n",
      "13800\n",
      "13800\n",
      "13900\n",
      "14000\n",
      "14100\n",
      "14200\n",
      "14300\n",
      "14400\n",
      "14500\n",
      "14600\n",
      "14700\n",
      "14800\n",
      "14900\n",
      "15000\n",
      "15100\n",
      "15200\n",
      "15300\n",
      "15400\n",
      "15400\n",
      "15500\n",
      "15500\n",
      "15600\n",
      "15700\n",
      "15800\n",
      "15900\n",
      "16000\n",
      "16100\n",
      "16200\n",
      "16300\n",
      "16400\n",
      "16500\n",
      "16600\n",
      "16700\n",
      "16800\n",
      "16900\n",
      "17000\n",
      "17100\n",
      "17200\n",
      "17300\n",
      "17400\n",
      "17500\n",
      "17600\n",
      "17700\n",
      "17800\n",
      "17900\n",
      "17900\n",
      "18000\n",
      "18100\n",
      "18200\n",
      "18300\n",
      "18400\n",
      "18500\n",
      "18600\n",
      "18700\n",
      "18800\n",
      "18900\n",
      "19000\n",
      "19100\n",
      "19200\n",
      "19300\n",
      "19400\n",
      "19500\n",
      "19600\n",
      "19600\n",
      "19700\n",
      "19700\n",
      "19800\n",
      "19900\n",
      "20000\n",
      "20100\n",
      "20200\n",
      "20300\n",
      "20400\n",
      "20500\n",
      "20600\n"
     ]
    },
    {
     "ename": "KeyboardInterrupt",
     "evalue": "",
     "output_type": "error",
     "traceback": [
      "\u001b[1;31m---------------------------------------------------------------------------\u001b[0m",
      "\u001b[1;31mKeyboardInterrupt\u001b[0m                         Traceback (most recent call last)",
      "\u001b[1;32m<ipython-input-20-1d1fa6b70983>\u001b[0m in \u001b[0;36m<module>\u001b[1;34m\u001b[0m\n\u001b[0;32m     26\u001b[0m         \u001b[1;32mtry\u001b[0m\u001b[1;33m:\u001b[0m\u001b[1;33m\u001b[0m\u001b[1;33m\u001b[0m\u001b[0m\n\u001b[0;32m     27\u001b[0m             \u001b[0mreq\u001b[0m \u001b[1;33m=\u001b[0m \u001b[0mrequests\u001b[0m\u001b[1;33m.\u001b[0m\u001b[0mget\u001b[0m\u001b[1;33m(\u001b[0m\u001b[0mlink\u001b[0m\u001b[1;33m)\u001b[0m\u001b[1;33m\u001b[0m\u001b[1;33m\u001b[0m\u001b[0m\n\u001b[1;32m---> 28\u001b[1;33m             \u001b[0mhtml_parser\u001b[0m \u001b[1;33m=\u001b[0m \u001b[0mBeautifulSoup\u001b[0m\u001b[1;33m(\u001b[0m\u001b[0mreq\u001b[0m\u001b[1;33m.\u001b[0m\u001b[0mcontent\u001b[0m\u001b[1;33m,\u001b[0m\u001b[1;34m'html.parser'\u001b[0m\u001b[1;33m)\u001b[0m\u001b[1;33m\u001b[0m\u001b[1;33m\u001b[0m\u001b[0m\n\u001b[0m\u001b[0;32m     29\u001b[0m             \u001b[0mtitle\u001b[0m \u001b[1;33m=\u001b[0m \u001b[0mhtml_parser\u001b[0m\u001b[1;33m.\u001b[0m\u001b[0mselect\u001b[0m\u001b[1;33m(\u001b[0m\u001b[1;34m'h3#articleTitle'\u001b[0m\u001b[1;33m)\u001b[0m\u001b[1;33m[\u001b[0m\u001b[1;36m0\u001b[0m\u001b[1;33m]\u001b[0m\u001b[1;33m.\u001b[0m\u001b[0mtext\u001b[0m\u001b[1;33m\u001b[0m\u001b[1;33m\u001b[0m\u001b[0m\n\u001b[0;32m     30\u001b[0m             \u001b[0mcontents\u001b[0m \u001b[1;33m=\u001b[0m \u001b[0mhtml_parser\u001b[0m\u001b[1;33m.\u001b[0m\u001b[0mselect\u001b[0m\u001b[1;33m(\u001b[0m\u001b[1;34m'#articleBodyContents'\u001b[0m\u001b[1;33m)\u001b[0m\u001b[1;33m[\u001b[0m\u001b[1;36m0\u001b[0m\u001b[1;33m]\u001b[0m\u001b[1;33m.\u001b[0m\u001b[0mget_text\u001b[0m\u001b[1;33m(\u001b[0m\u001b[1;33m)\u001b[0m\u001b[1;33m.\u001b[0m\u001b[0mreplace\u001b[0m\u001b[1;33m(\u001b[0m\u001b[1;34m'\\n'\u001b[0m\u001b[1;33m,\u001b[0m \u001b[1;34m\"\"\u001b[0m\u001b[1;33m)\u001b[0m\u001b[1;33m\u001b[0m\u001b[1;33m\u001b[0m\u001b[0m\n",
      "\u001b[1;32m~\\AppData\\Local\\Continuum\\anaconda3\\lib\\site-packages\\bs4\\__init__.py\u001b[0m in \u001b[0;36m__init__\u001b[1;34m(self, markup, features, builder, parse_only, from_encoding, exclude_encodings, **kwargs)\u001b[0m\n\u001b[0;32m    226\u001b[0m             \u001b[0mself\u001b[0m\u001b[1;33m.\u001b[0m\u001b[0mreset\u001b[0m\u001b[1;33m(\u001b[0m\u001b[1;33m)\u001b[0m\u001b[1;33m\u001b[0m\u001b[1;33m\u001b[0m\u001b[0m\n\u001b[0;32m    227\u001b[0m             \u001b[1;32mtry\u001b[0m\u001b[1;33m:\u001b[0m\u001b[1;33m\u001b[0m\u001b[1;33m\u001b[0m\u001b[0m\n\u001b[1;32m--> 228\u001b[1;33m                 \u001b[0mself\u001b[0m\u001b[1;33m.\u001b[0m\u001b[0m_feed\u001b[0m\u001b[1;33m(\u001b[0m\u001b[1;33m)\u001b[0m\u001b[1;33m\u001b[0m\u001b[1;33m\u001b[0m\u001b[0m\n\u001b[0m\u001b[0;32m    229\u001b[0m                 \u001b[1;32mbreak\u001b[0m\u001b[1;33m\u001b[0m\u001b[1;33m\u001b[0m\u001b[0m\n\u001b[0;32m    230\u001b[0m             \u001b[1;32mexcept\u001b[0m \u001b[0mParserRejectedMarkup\u001b[0m\u001b[1;33m:\u001b[0m\u001b[1;33m\u001b[0m\u001b[1;33m\u001b[0m\u001b[0m\n",
      "\u001b[1;32m~\\AppData\\Local\\Continuum\\anaconda3\\lib\\site-packages\\bs4\\__init__.py\u001b[0m in \u001b[0;36m_feed\u001b[1;34m(self)\u001b[0m\n\u001b[0;32m    287\u001b[0m         \u001b[0mself\u001b[0m\u001b[1;33m.\u001b[0m\u001b[0mbuilder\u001b[0m\u001b[1;33m.\u001b[0m\u001b[0mreset\u001b[0m\u001b[1;33m(\u001b[0m\u001b[1;33m)\u001b[0m\u001b[1;33m\u001b[0m\u001b[1;33m\u001b[0m\u001b[0m\n\u001b[0;32m    288\u001b[0m \u001b[1;33m\u001b[0m\u001b[0m\n\u001b[1;32m--> 289\u001b[1;33m         \u001b[0mself\u001b[0m\u001b[1;33m.\u001b[0m\u001b[0mbuilder\u001b[0m\u001b[1;33m.\u001b[0m\u001b[0mfeed\u001b[0m\u001b[1;33m(\u001b[0m\u001b[0mself\u001b[0m\u001b[1;33m.\u001b[0m\u001b[0mmarkup\u001b[0m\u001b[1;33m)\u001b[0m\u001b[1;33m\u001b[0m\u001b[1;33m\u001b[0m\u001b[0m\n\u001b[0m\u001b[0;32m    290\u001b[0m         \u001b[1;31m# Close out any unfinished strings and close all the open tags.\u001b[0m\u001b[1;33m\u001b[0m\u001b[1;33m\u001b[0m\u001b[1;33m\u001b[0m\u001b[0m\n\u001b[0;32m    291\u001b[0m         \u001b[0mself\u001b[0m\u001b[1;33m.\u001b[0m\u001b[0mendData\u001b[0m\u001b[1;33m(\u001b[0m\u001b[1;33m)\u001b[0m\u001b[1;33m\u001b[0m\u001b[1;33m\u001b[0m\u001b[0m\n",
      "\u001b[1;32m~\\AppData\\Local\\Continuum\\anaconda3\\lib\\site-packages\\bs4\\builder\\_htmlparser.py\u001b[0m in \u001b[0;36mfeed\u001b[1;34m(self, markup)\u001b[0m\n\u001b[0;32m    213\u001b[0m         \u001b[0mparser\u001b[0m\u001b[1;33m.\u001b[0m\u001b[0msoup\u001b[0m \u001b[1;33m=\u001b[0m \u001b[0mself\u001b[0m\u001b[1;33m.\u001b[0m\u001b[0msoup\u001b[0m\u001b[1;33m\u001b[0m\u001b[1;33m\u001b[0m\u001b[0m\n\u001b[0;32m    214\u001b[0m         \u001b[1;32mtry\u001b[0m\u001b[1;33m:\u001b[0m\u001b[1;33m\u001b[0m\u001b[1;33m\u001b[0m\u001b[0m\n\u001b[1;32m--> 215\u001b[1;33m             \u001b[0mparser\u001b[0m\u001b[1;33m.\u001b[0m\u001b[0mfeed\u001b[0m\u001b[1;33m(\u001b[0m\u001b[0mmarkup\u001b[0m\u001b[1;33m)\u001b[0m\u001b[1;33m\u001b[0m\u001b[1;33m\u001b[0m\u001b[0m\n\u001b[0m\u001b[0;32m    216\u001b[0m         \u001b[1;32mexcept\u001b[0m \u001b[0mHTMLParseError\u001b[0m \u001b[1;32mas\u001b[0m \u001b[0me\u001b[0m\u001b[1;33m:\u001b[0m\u001b[1;33m\u001b[0m\u001b[1;33m\u001b[0m\u001b[0m\n\u001b[0;32m    217\u001b[0m             warnings.warn(RuntimeWarning(\n",
      "\u001b[1;32m~\\AppData\\Local\\Continuum\\anaconda3\\lib\\html\\parser.py\u001b[0m in \u001b[0;36mfeed\u001b[1;34m(self, data)\u001b[0m\n\u001b[0;32m    109\u001b[0m         \"\"\"\n\u001b[0;32m    110\u001b[0m         \u001b[0mself\u001b[0m\u001b[1;33m.\u001b[0m\u001b[0mrawdata\u001b[0m \u001b[1;33m=\u001b[0m \u001b[0mself\u001b[0m\u001b[1;33m.\u001b[0m\u001b[0mrawdata\u001b[0m \u001b[1;33m+\u001b[0m \u001b[0mdata\u001b[0m\u001b[1;33m\u001b[0m\u001b[1;33m\u001b[0m\u001b[0m\n\u001b[1;32m--> 111\u001b[1;33m         \u001b[0mself\u001b[0m\u001b[1;33m.\u001b[0m\u001b[0mgoahead\u001b[0m\u001b[1;33m(\u001b[0m\u001b[1;36m0\u001b[0m\u001b[1;33m)\u001b[0m\u001b[1;33m\u001b[0m\u001b[1;33m\u001b[0m\u001b[0m\n\u001b[0m\u001b[0;32m    112\u001b[0m \u001b[1;33m\u001b[0m\u001b[0m\n\u001b[0;32m    113\u001b[0m     \u001b[1;32mdef\u001b[0m \u001b[0mclose\u001b[0m\u001b[1;33m(\u001b[0m\u001b[0mself\u001b[0m\u001b[1;33m)\u001b[0m\u001b[1;33m:\u001b[0m\u001b[1;33m\u001b[0m\u001b[1;33m\u001b[0m\u001b[0m\n",
      "\u001b[1;32m~\\AppData\\Local\\Continuum\\anaconda3\\lib\\html\\parser.py\u001b[0m in \u001b[0;36mgoahead\u001b[1;34m(self, end)\u001b[0m\n\u001b[0;32m    171\u001b[0m                     \u001b[0mk\u001b[0m \u001b[1;33m=\u001b[0m \u001b[0mself\u001b[0m\u001b[1;33m.\u001b[0m\u001b[0mparse_starttag\u001b[0m\u001b[1;33m(\u001b[0m\u001b[0mi\u001b[0m\u001b[1;33m)\u001b[0m\u001b[1;33m\u001b[0m\u001b[1;33m\u001b[0m\u001b[0m\n\u001b[0;32m    172\u001b[0m                 \u001b[1;32melif\u001b[0m \u001b[0mstartswith\u001b[0m\u001b[1;33m(\u001b[0m\u001b[1;34m\"</\"\u001b[0m\u001b[1;33m,\u001b[0m \u001b[0mi\u001b[0m\u001b[1;33m)\u001b[0m\u001b[1;33m:\u001b[0m\u001b[1;33m\u001b[0m\u001b[1;33m\u001b[0m\u001b[0m\n\u001b[1;32m--> 173\u001b[1;33m                     \u001b[0mk\u001b[0m \u001b[1;33m=\u001b[0m \u001b[0mself\u001b[0m\u001b[1;33m.\u001b[0m\u001b[0mparse_endtag\u001b[0m\u001b[1;33m(\u001b[0m\u001b[0mi\u001b[0m\u001b[1;33m)\u001b[0m\u001b[1;33m\u001b[0m\u001b[1;33m\u001b[0m\u001b[0m\n\u001b[0m\u001b[0;32m    174\u001b[0m                 \u001b[1;32melif\u001b[0m \u001b[0mstartswith\u001b[0m\u001b[1;33m(\u001b[0m\u001b[1;34m\"<!--\"\u001b[0m\u001b[1;33m,\u001b[0m \u001b[0mi\u001b[0m\u001b[1;33m)\u001b[0m\u001b[1;33m:\u001b[0m\u001b[1;33m\u001b[0m\u001b[1;33m\u001b[0m\u001b[0m\n\u001b[0;32m    175\u001b[0m                     \u001b[0mk\u001b[0m \u001b[1;33m=\u001b[0m \u001b[0mself\u001b[0m\u001b[1;33m.\u001b[0m\u001b[0mparse_comment\u001b[0m\u001b[1;33m(\u001b[0m\u001b[0mi\u001b[0m\u001b[1;33m)\u001b[0m\u001b[1;33m\u001b[0m\u001b[1;33m\u001b[0m\u001b[0m\n",
      "\u001b[1;32m~\\AppData\\Local\\Continuum\\anaconda3\\lib\\html\\parser.py\u001b[0m in \u001b[0;36mparse_endtag\u001b[1;34m(self, i)\u001b[0m\n\u001b[0;32m    392\u001b[0m         \u001b[0mgtpos\u001b[0m \u001b[1;33m=\u001b[0m \u001b[0mmatch\u001b[0m\u001b[1;33m.\u001b[0m\u001b[0mend\u001b[0m\u001b[1;33m(\u001b[0m\u001b[1;33m)\u001b[0m\u001b[1;33m\u001b[0m\u001b[1;33m\u001b[0m\u001b[0m\n\u001b[0;32m    393\u001b[0m         \u001b[0mmatch\u001b[0m \u001b[1;33m=\u001b[0m \u001b[0mendtagfind\u001b[0m\u001b[1;33m.\u001b[0m\u001b[0mmatch\u001b[0m\u001b[1;33m(\u001b[0m\u001b[0mrawdata\u001b[0m\u001b[1;33m,\u001b[0m \u001b[0mi\u001b[0m\u001b[1;33m)\u001b[0m \u001b[1;31m# </ + tag + >\u001b[0m\u001b[1;33m\u001b[0m\u001b[1;33m\u001b[0m\u001b[0m\n\u001b[1;32m--> 394\u001b[1;33m         \u001b[1;32mif\u001b[0m \u001b[1;32mnot\u001b[0m \u001b[0mmatch\u001b[0m\u001b[1;33m:\u001b[0m\u001b[1;33m\u001b[0m\u001b[1;33m\u001b[0m\u001b[0m\n\u001b[0m\u001b[0;32m    395\u001b[0m             \u001b[1;32mif\u001b[0m \u001b[0mself\u001b[0m\u001b[1;33m.\u001b[0m\u001b[0mcdata_elem\u001b[0m \u001b[1;32mis\u001b[0m \u001b[1;32mnot\u001b[0m \u001b[1;32mNone\u001b[0m\u001b[1;33m:\u001b[0m\u001b[1;33m\u001b[0m\u001b[1;33m\u001b[0m\u001b[0m\n\u001b[0;32m    396\u001b[0m                 \u001b[0mself\u001b[0m\u001b[1;33m.\u001b[0m\u001b[0mhandle_data\u001b[0m\u001b[1;33m(\u001b[0m\u001b[0mrawdata\u001b[0m\u001b[1;33m[\u001b[0m\u001b[0mi\u001b[0m\u001b[1;33m:\u001b[0m\u001b[0mgtpos\u001b[0m\u001b[1;33m]\u001b[0m\u001b[1;33m)\u001b[0m\u001b[1;33m\u001b[0m\u001b[1;33m\u001b[0m\u001b[0m\n",
      "\u001b[1;31mKeyboardInterrupt\u001b[0m: "
     ]
    }
   ],
   "source": [
    "## 자동화(3~4시간정도 걸립니다)\n",
    "df = pd.DataFrame(columns=['title','contents','date'])\n",
    "\n",
    "search_word = '인천&시내버스' #검색어\n",
    "encode_type = 'json' #출력 방식 json 또는 xml\n",
    "max_display = 100 #출력 뉴스 수\n",
    "sort = 'date' #결과값의 정렬기준 시간순 date, 관련도 순 sim\n",
    "start = 1 # 출력 위치\n",
    "i=0\n",
    "\n",
    "while True:\n",
    "    url = f\"https://openapi.naver.com/v1/search/news.{encode_type}?query={search_word}&display={str(int(max_display))}&start={str(int(start))}&sort={sort}\"\n",
    "\n",
    "    #헤더에 아이디와 키 정보 넣기\n",
    "    headers = {'X-Naver-Client-Id' : client_id,\n",
    "               'X-Naver-Client-Secret':client_secret\n",
    "           }\n",
    "    #HTTP요청 보내기\n",
    "    r = requests.get(url, headers=headers)\n",
    "    #요청 결과 보기 200 이면 정상적으로 요청 완료\n",
    "    try:links = [x['link'] for x in r.json()['items'] if 'naver' in x['link']]\n",
    "    except KeyError:break\n",
    "        \n",
    "    for link in links:\n",
    "        if i%100==0:print(i)\n",
    "        try:\n",
    "            req = requests.get(link)\n",
    "            html_parser = BeautifulSoup(req.content,'html.parser')\n",
    "            title = html_parser.select('h3#articleTitle')[0].text\n",
    "            contents = html_parser.select('#articleBodyContents')[0].get_text().replace('\\n', \"\")\n",
    "            contents = contents.replace(\"// flash 오류를 우회하기 위한 함수 추가function _flash_removeCallback() {}\", \"\")\n",
    "            contents = contents[:contents.find('▶')]\n",
    "            date = html_parser.select('.t11')[0].get_text()[:11]\n",
    "            df.loc[i] = [title,contents,date]\n",
    "            i+=1\n",
    "        except IndexError:continue\n",
    "    start+=1"
   ]
  },
  {
   "cell_type": "code",
   "execution_count": 21,
   "metadata": {},
   "outputs": [],
   "source": [
    "df.to_csv('result.csv',encoding='utf-8',index=False)"
   ]
  },
  {
   "cell_type": "code",
   "execution_count": 22,
   "metadata": {},
   "outputs": [
    {
     "data": {
      "text/html": [
       "<div>\n",
       "<style scoped>\n",
       "    .dataframe tbody tr th:only-of-type {\n",
       "        vertical-align: middle;\n",
       "    }\n",
       "\n",
       "    .dataframe tbody tr th {\n",
       "        vertical-align: top;\n",
       "    }\n",
       "\n",
       "    .dataframe thead th {\n",
       "        text-align: right;\n",
       "    }\n",
       "</style>\n",
       "<table border=\"1\" class=\"dataframe\">\n",
       "  <thead>\n",
       "    <tr style=\"text-align: right;\">\n",
       "      <th></th>\n",
       "      <th>title</th>\n",
       "      <th>contents</th>\n",
       "      <th>date</th>\n",
       "    </tr>\n",
       "  </thead>\n",
       "  <tbody>\n",
       "    <tr>\n",
       "      <th>0</th>\n",
       "      <td>\"꼴등 후보가 차기 총장?\" 인천대 3대 총장 선출 두고 '시끌'</td>\n",
       "      <td>\"총장추천위 최종 1위하고도 탈락\" 최계운 후보 '의혹 제기'학교 측 \"절차상 문제...</td>\n",
       "      <td>2020.06.04.</td>\n",
       "    </tr>\n",
       "    <tr>\n",
       "      <th>1</th>\n",
       "      <td>\"사람 다리가 물 위에 떠있다\"…아라뱃길 훼손 시신은 여성</td>\n",
       "      <td>\\t\\t최근 인천 경인아라뱃길 수로에서 훼손 상태로 발견된 시신의 성별이 여성으로 ...</td>\n",
       "      <td>2020.06.04.</td>\n",
       "    </tr>\n",
       "    <tr>\n",
       "      <th>2</th>\n",
       "      <td>수도권 '방역 데드라인' D-7…'전방위 확산' 멈출 수 있나?</td>\n",
       "      <td>이태원 클럽발, 2차 걸친 데드라인에도 연쇄감염 잇따라조용한 전파 꾸준히 늘어…학교...</td>\n",
       "      <td>2020.06.04.</td>\n",
       "    </tr>\n",
       "    <tr>\n",
       "      <th>3</th>\n",
       "      <td>마약 투약후 죽음의 질주…25t 트럭운전자에 중형</td>\n",
       "      <td>동영상 뉴스\\t\\t필로폰을 투약한 뒤 25t 트럭을 몰다 뺑소니 사고를 낸 50대가...</td>\n",
       "      <td>2020.06.04.</td>\n",
       "    </tr>\n",
       "    <tr>\n",
       "      <th>4</th>\n",
       "      <td>5년 뒤 택시가 하늘을 난다…요금은 얼마?</td>\n",
       "      <td>'드론 택시' 2025년에 띄운다  1997년에 개봉한 영화 '제5원소'의 배경은...</td>\n",
       "      <td>2020.06.04.</td>\n",
       "    </tr>\n",
       "    <tr>\n",
       "      <th>...</th>\n",
       "      <td>...</td>\n",
       "      <td>...</td>\n",
       "      <td>...</td>\n",
       "    </tr>\n",
       "    <tr>\n",
       "      <th>20684</th>\n",
       "      <td>잔여 무상급식비, 학생들에게 안 가고 딴 데로?</td>\n",
       "      <td>인천시 등 일부 광역단체, 휴교기간 무상급식비 예산 전용 의혹 제기무상급식은 200...</td>\n",
       "      <td>2020.06.04.</td>\n",
       "    </tr>\n",
       "    <tr>\n",
       "      <th>20685</th>\n",
       "      <td>'플라잉택시' 13조 시장 열린다..일자리 16만명 창출</td>\n",
       "      <td>\\t\\t[머니투데이 유엄식 기자, 박미주 기자]  올해 초 미국 네바다주 라스베이거...</td>\n",
       "      <td>2020.06.04.</td>\n",
       "    </tr>\n",
       "    <tr>\n",
       "      <th>20686</th>\n",
       "      <td>5년후 '플라잉택시'로 인천공항~여의도 20분에 간다</td>\n",
       "      <td>\\t\\t[머니투데이 유엄식 기자, 박미주 기자]  올해 초 미국 라스베이거스에서 열...</td>\n",
       "      <td>2020.06.04.</td>\n",
       "    </tr>\n",
       "    <tr>\n",
       "      <th>20687</th>\n",
       "      <td>5년 뒤 드론 택시 띄운다…한국형 도심항공교통 로드맵 발표</td>\n",
       "      <td>\\t\\t국토부, 2025년 상용화·2035년 자율비행 비전 제시기체 개발·인증·관제...</td>\n",
       "      <td>2020.06.04.</td>\n",
       "    </tr>\n",
       "    <tr>\n",
       "      <th>20688</th>\n",
       "      <td>보따리상 통해 수입한 불법 中 농산물 유통판매업체, 무더기 적발</td>\n",
       "      <td>부산시 특사경, 불법 중국산 농산물 유통사범 특별수사부산시 특사경은 중국산 농산물 ...</td>\n",
       "      <td>2020.06.04.</td>\n",
       "    </tr>\n",
       "  </tbody>\n",
       "</table>\n",
       "<p>20689 rows × 3 columns</p>\n",
       "</div>"
      ],
      "text/plain": [
       "                                      title  \\\n",
       "0      \"꼴등 후보가 차기 총장?\" 인천대 3대 총장 선출 두고 '시끌'   \n",
       "1          \"사람 다리가 물 위에 떠있다\"…아라뱃길 훼손 시신은 여성   \n",
       "2       수도권 '방역 데드라인' D-7…'전방위 확산' 멈출 수 있나?   \n",
       "3               마약 투약후 죽음의 질주…25t 트럭운전자에 중형   \n",
       "4                   5년 뒤 택시가 하늘을 난다…요금은 얼마?   \n",
       "...                                     ...   \n",
       "20684            잔여 무상급식비, 학생들에게 안 가고 딴 데로?   \n",
       "20685       '플라잉택시' 13조 시장 열린다..일자리 16만명 창출   \n",
       "20686         5년후 '플라잉택시'로 인천공항~여의도 20분에 간다   \n",
       "20687      5년 뒤 드론 택시 띄운다…한국형 도심항공교통 로드맵 발표   \n",
       "20688   보따리상 통해 수입한 불법 中 농산물 유통판매업체, 무더기 적발   \n",
       "\n",
       "                                                contents         date  \n",
       "0      \"총장추천위 최종 1위하고도 탈락\" 최계운 후보 '의혹 제기'학교 측 \"절차상 문제...  2020.06.04.  \n",
       "1      \\t\\t최근 인천 경인아라뱃길 수로에서 훼손 상태로 발견된 시신의 성별이 여성으로 ...  2020.06.04.  \n",
       "2      이태원 클럽발, 2차 걸친 데드라인에도 연쇄감염 잇따라조용한 전파 꾸준히 늘어…학교...  2020.06.04.  \n",
       "3      동영상 뉴스\\t\\t필로폰을 투약한 뒤 25t 트럭을 몰다 뺑소니 사고를 낸 50대가...  2020.06.04.  \n",
       "4       '드론 택시' 2025년에 띄운다  1997년에 개봉한 영화 '제5원소'의 배경은...  2020.06.04.  \n",
       "...                                                  ...          ...  \n",
       "20684  인천시 등 일부 광역단체, 휴교기간 무상급식비 예산 전용 의혹 제기무상급식은 200...  2020.06.04.  \n",
       "20685  \\t\\t[머니투데이 유엄식 기자, 박미주 기자]  올해 초 미국 네바다주 라스베이거...  2020.06.04.  \n",
       "20686  \\t\\t[머니투데이 유엄식 기자, 박미주 기자]  올해 초 미국 라스베이거스에서 열...  2020.06.04.  \n",
       "20687  \\t\\t국토부, 2025년 상용화·2035년 자율비행 비전 제시기체 개발·인증·관제...  2020.06.04.  \n",
       "20688  부산시 특사경, 불법 중국산 농산물 유통사범 특별수사부산시 특사경은 중국산 농산물 ...  2020.06.04.  \n",
       "\n",
       "[20689 rows x 3 columns]"
      ]
     },
     "execution_count": 22,
     "metadata": {},
     "output_type": "execute_result"
    }
   ],
   "source": [
    "df"
   ]
  },
  {
   "cell_type": "markdown",
   "metadata": {},
   "source": [
    "워드 클라우드 및 벡터화"
   ]
  },
  {
   "cell_type": "code",
   "execution_count": 30,
   "metadata": {
    "scrolled": true
   },
   "outputs": [],
   "source": [
    "# !pip install konlpy\n",
    "# from konlpy.tag import Mecab\n",
    "# okt=Okt()"
   ]
  },
  {
   "cell_type": "code",
   "execution_count": 31,
   "metadata": {},
   "outputs": [],
   "source": [
    "# result = []\n",
    "# for i,sentence in enumerate(tweet_sentences):\n",
    "#     nouns = okt.nouns(sentence)\n",
    "#     result.append(nouns)"
   ]
  },
  {
   "cell_type": "code",
   "execution_count": 32,
   "metadata": {},
   "outputs": [],
   "source": [
    "print('총 샘플의 개수 : {}'.format(len(result)))"
   ]
  },
  {
   "cell_type": "code",
   "execution_count": 34,
   "metadata": {},
   "outputs": [
    {
     "name": "stdout",
     "output_type": "stream",
     "text": [
      "단어 집합의 크기 : 181\n"
     ]
    }
   ],
   "source": [
    "from nltk import FreqDist\n",
    "import numpy as np\n",
    "\n",
    "vocab = FreqDist(np.hstack(df['contents']))\n",
    "print('단어 집합의 크기 : {}'.format(len(vocab)))"
   ]
  },
  {
   "cell_type": "code",
   "execution_count": 15,
   "metadata": {},
   "outputs": [
    {
     "data": {
      "text/plain": [
       "<bound method Counter.most_common of FreqDist({'버스': 5244, '교통': 3151, '시내버스': 1818, '번': 1546, '계': 818, '마을': 657, '출구': 619, '이용': 566, '부천': 548, '수': 545, ...})>"
      ]
     },
     "execution_count": 15,
     "metadata": {},
     "output_type": "execute_result"
    }
   ],
   "source": [
    "vocab.most_common"
   ]
  },
  {
   "cell_type": "code",
   "execution_count": null,
   "metadata": {},
   "outputs": [],
   "source": [
    "## wordcloud 만들어보고싶어서 했습니다."
   ]
  },
  {
   "cell_type": "code",
   "execution_count": 17,
   "metadata": {},
   "outputs": [
    {
     "name": "stdout",
     "output_type": "stream",
     "text": [
      "Collecting wordcloud\n",
      "  Downloading https://files.pythonhosted.org/packages/65/41/abefdda082c7b211248e412fb2c7a8dc69d474f18ed61a5a784f20f73bb7/wordcloud-1.7.0-cp37-cp37m-win_amd64.whl (157kB)\n",
      "Requirement already satisfied: numpy>=1.6.1 in c:\\users\\namsik\\anaconda3\\lib\\site-packages (from wordcloud) (1.16.5)\n",
      "Requirement already satisfied: pillow in c:\\users\\namsik\\anaconda3\\lib\\site-packages (from wordcloud) (6.2.0)\n",
      "Requirement already satisfied: matplotlib in c:\\users\\namsik\\anaconda3\\lib\\site-packages (from wordcloud) (3.1.1)\n",
      "Requirement already satisfied: cycler>=0.10 in c:\\users\\namsik\\anaconda3\\lib\\site-packages (from matplotlib->wordcloud) (0.10.0)\n",
      "Requirement already satisfied: kiwisolver>=1.0.1 in c:\\users\\namsik\\anaconda3\\lib\\site-packages (from matplotlib->wordcloud) (1.1.0)\n",
      "Requirement already satisfied: pyparsing!=2.0.4,!=2.1.2,!=2.1.6,>=2.0.1 in c:\\users\\namsik\\anaconda3\\lib\\site-packages (from matplotlib->wordcloud) (2.4.2)\n",
      "Requirement already satisfied: python-dateutil>=2.1 in c:\\users\\namsik\\anaconda3\\lib\\site-packages (from matplotlib->wordcloud) (2.8.0)\n",
      "Requirement already satisfied: six in c:\\users\\namsik\\anaconda3\\lib\\site-packages (from cycler>=0.10->matplotlib->wordcloud) (1.12.0)\n",
      "Requirement already satisfied: setuptools in c:\\users\\namsik\\anaconda3\\lib\\site-packages (from kiwisolver>=1.0.1->matplotlib->wordcloud) (41.4.0)\n",
      "Installing collected packages: wordcloud\n",
      "Successfully installed wordcloud-1.7.0\n"
     ]
    }
   ],
   "source": [
    "!pip install wordcloud\n",
    "from wordcloud import WordCloud\n",
    "import matplotlib.pyplot as plt\n",
    "import matplotlib.font_manager as fm\n",
    "\n",
    "font_path = 'C:/Windows/Fonts/EBS훈민정음R.ttf'\n",
    "fontprop = fm.FontProperties(fname=font_path, size=18)"
   ]
  },
  {
   "cell_type": "code",
   "execution_count": 21,
   "metadata": {},
   "outputs": [],
   "source": [
    "path='C:\\WINDOWS\\FONTS\\GULIM.TTC'\n",
    "wordcloud = WordCloud(max_font_size=100,font_path = path).generate(''.join(sentences))"
   ]
  },
  {
   "cell_type": "code",
   "execution_count": 22,
   "metadata": {},
   "outputs": [
    {
     "data": {
      "text/plain": [
       "(-0.5, 399.5, 199.5, -0.5)"
      ]
     },
     "execution_count": 22,
     "metadata": {},
     "output_type": "execute_result"
    },
    {
     "data": {
      "image/png": "[encoded data removed]",
      "text/plain": [
       "<Figure size 432x288 with 1 Axes>"
      ]
     },
     "metadata": {
      "needs_background": "light"
     },
     "output_type": "display_data"
    }
   ],
   "source": [
    "fig = plt.figure()\n",
    "plt.imshow(wordcloud, interpolation='bilinear')\n",
    "plt.axis('off')"
   ]
  },
  {
   "cell_type": "code",
   "execution_count": 24,
   "metadata": {
    "scrolled": true
   },
   "outputs": [
    {
     "name": "stdout",
     "output_type": "stream",
     "text": [
      "Collecting gensim\n",
      "  Downloading https://files.pythonhosted.org/packages/0b/66/04faeedb98bfa5f241d0399d0102456886179cabac0355475f23a2978847/gensim-3.8.3-cp37-cp37m-win_amd64.whl (24.2MB)\n",
      "Collecting smart-open>=1.8.1 (from gensim)\n",
      "  Downloading https://files.pythonhosted.org/packages/74/77/744c79da6e66691e3500b6dffff29bdd787015eae817d594791edc7b719b/smart_open-2.0.0.tar.gz (103kB)\n",
      "Requirement already satisfied: scipy>=0.18.1 in c:\\users\\namsik\\anaconda3\\lib\\site-packages (from gensim) (1.3.1)\n",
      "Requirement already satisfied: six>=1.5.0 in c:\\users\\namsik\\anaconda3\\lib\\site-packages (from gensim) (1.12.0)\n",
      "Requirement already satisfied: numpy>=1.11.3 in c:\\users\\namsik\\anaconda3\\lib\\site-packages (from gensim) (1.16.5)\n",
      "Collecting Cython==0.29.14 (from gensim)\n",
      "  Downloading https://files.pythonhosted.org/packages/1f/be/b14be5c3ad1ff73096b518be1538282f053ec34faaca60a8753d975d7e93/Cython-0.29.14-cp37-cp37m-win_amd64.whl (1.7MB)\n",
      "Requirement already satisfied: requests in c:\\users\\namsik\\anaconda3\\lib\\site-packages (from smart-open>=1.8.1->gensim) (2.22.0)\n",
      "Requirement already satisfied: boto in c:\\users\\namsik\\anaconda3\\lib\\site-packages (from smart-open>=1.8.1->gensim) (2.49.0)\n",
      "Collecting boto3 (from smart-open>=1.8.1->gensim)\n",
      "  Downloading https://files.pythonhosted.org/packages/bc/3c/6169a4a2ac727081365473fc041c0896b4712fe184c8fec73423b166b794/boto3-1.13.21-py2.py3-none-any.whl (128kB)\n",
      "Requirement already satisfied: certifi>=2017.4.17 in c:\\users\\namsik\\anaconda3\\lib\\site-packages (from requests->smart-open>=1.8.1->gensim) (2019.9.11)\n",
      "Requirement already satisfied: chardet<3.1.0,>=3.0.2 in c:\\users\\namsik\\anaconda3\\lib\\site-packages (from requests->smart-open>=1.8.1->gensim) (3.0.4)\n",
      "Requirement already satisfied: idna<2.9,>=2.5 in c:\\users\\namsik\\anaconda3\\lib\\site-packages (from requests->smart-open>=1.8.1->gensim) (2.8)\n",
      "Requirement already satisfied: urllib3!=1.25.0,!=1.25.1,<1.26,>=1.21.1 in c:\\users\\namsik\\anaconda3\\lib\\site-packages (from requests->smart-open>=1.8.1->gensim) (1.24.2)\n",
      "Collecting botocore<1.17.0,>=1.16.21 (from boto3->smart-open>=1.8.1->gensim)\n",
      "  Downloading https://files.pythonhosted.org/packages/8b/13/ac741f2ed18dde0067077fbd699c0240ef9f603ed9c4b058c9ccafb92647/botocore-1.16.21-py2.py3-none-any.whl (6.2MB)\n",
      "Collecting jmespath<1.0.0,>=0.7.1 (from boto3->smart-open>=1.8.1->gensim)\n",
      "  Downloading https://files.pythonhosted.org/packages/07/cb/5f001272b6faeb23c1c9e0acc04d48eaaf5c862c17709d20e3469c6e0139/jmespath-0.10.0-py2.py3-none-any.whl\n",
      "Collecting s3transfer<0.4.0,>=0.3.0 (from boto3->smart-open>=1.8.1->gensim)\n",
      "  Downloading https://files.pythonhosted.org/packages/69/79/e6afb3d8b0b4e96cefbdc690f741d7dd24547ff1f94240c997a26fa908d3/s3transfer-0.3.3-py2.py3-none-any.whl (69kB)\n",
      "Requirement already satisfied: python-dateutil<3.0.0,>=2.1 in c:\\users\\namsik\\anaconda3\\lib\\site-packages (from botocore<1.17.0,>=1.16.21->boto3->smart-open>=1.8.1->gensim) (2.8.0)\n",
      "Requirement already satisfied: docutils<0.16,>=0.10 in c:\\users\\namsik\\anaconda3\\lib\\site-packages (from botocore<1.17.0,>=1.16.21->boto3->smart-open>=1.8.1->gensim) (0.15.2)\n",
      "Building wheels for collected packages: smart-open\n",
      "  Building wheel for smart-open (setup.py): started\n",
      "  Building wheel for smart-open (setup.py): finished with status 'done'\n",
      "  Created wheel for smart-open: filename=smart_open-2.0.0-cp37-none-any.whl size=101347 sha256=a98a45f0f6e20fc11e0dab046f4d781e68aa0f8151b0e6c6e0ec9ad4db2dca75\n",
      "  Stored in directory: C:\\Users\\Namsik\\AppData\\Local\\pip\\Cache\\wheels\\27\\65\\38\\8d7f5fe8d7afb4e4566587b2d1933cec185fba19257836c943\n",
      "Successfully built smart-open\n",
      "Installing collected packages: jmespath, botocore, s3transfer, boto3, smart-open, Cython, gensim\n",
      "  Found existing installation: Cython 0.29.13\n",
      "    Uninstalling Cython-0.29.13:\n",
      "      Successfully uninstalled Cython-0.29.13\n",
      "Successfully installed Cython-0.29.14 boto3-1.13.21 botocore-1.16.21 gensim-3.8.3 jmespath-0.10.0 s3transfer-0.3.3 smart-open-2.0.0\n"
     ]
    }
   ],
   "source": [
    "!pip install gensim\n",
    "from gensim.models import Word2Vec\n",
    "w2v_model = Word2Vec(result, size=100, window=5, min_count=5, workers=4, sg=0)\n",
    "sg_model = Word2Vec(result, size=100, window=5, min_count=5, workers=4, sg=1)"
   ]
  },
  {
   "cell_type": "code",
   "execution_count": 27,
   "metadata": {},
   "outputs": [
    {
     "data": {
      "text/plain": [
       "[('서울특별시', 0.8915201425552368),\n",
       " ('기존', 0.8540252447128296),\n",
       " ('운행', 0.8418152928352356),\n",
       " ('저상버스', 0.8407148122787476),\n",
       " ('춘천', 0.830039381980896),\n",
       " ('쪽', 0.8292832970619202),\n",
       " ('현황', 0.8255770802497864),\n",
       " ('소속', 0.8224915266036987),\n",
       " ('대구광역시', 0.8201866149902344),\n",
       " ('지자체', 0.8201137781143188)]"
      ]
     },
     "execution_count": 27,
     "metadata": {},
     "output_type": "execute_result"
    }
   ],
   "source": [
    "w2v_model.wv.most_similar('시내버스')"
   ]
  },
  {
   "cell_type": "code",
   "execution_count": 43,
   "metadata": {},
   "outputs": [
    {
     "data": {
      "text/plain": [
       "[('마을', 0.6068387627601624),\n",
       " ('여기', 0.5937639474868774),\n",
       " ('춘천', 0.5863891839981079),\n",
       " ('매음굴', 0.5851530432701111),\n",
       " ('금진', 0.5721750259399414),\n",
       " ('성남', 0.5713849663734436),\n",
       " ('나가요', 0.5628350973129272),\n",
       " ('고등', 0.5591625571250916),\n",
       " ('부산', 0.5583676099777222),\n",
       " ('시간표', 0.5567464232444763)]"
      ]
     },
     "execution_count": 43,
     "metadata": {},
     "output_type": "execute_result"
    }
   ],
   "source": [
    "sg_model.wv.most_similar('시내버스')"
   ]
  },
  {
   "cell_type": "markdown",
   "metadata": {},
   "source": [
    "네이버뉴스 크롤링"
   ]
  },
  {
   "cell_type": "code",
   "execution_count": 93,
   "metadata": {},
   "outputs": [],
   "source": [
    "import requests\n",
    "from bs4 import BeautifulSoup\n",
    "import pandas as pd\n",
    "\n",
    "client_id = \"7WzEkHSQpIcoVfIhnZOj\"\n",
    "client_secret = \"a4FoQabvG1\""
   ]
  },
  {
   "cell_type": "code",
   "execution_count": 91,
   "metadata": {},
   "outputs": [
    {
     "name": "stdout",
     "output_type": "stream",
     "text": [
      "<Response [200]>\n"
     ]
    }
   ],
   "source": [
    "search_word = '시내버스' #검색어\n",
    "encode_type = 'json' #출력 방식 json 또는 xml\n",
    "max_display = 100 #출력 뉴스 수\n",
    "sort = 'sim' #결과값의 정렬기준 시간순 date, 관련도 순 sim\n",
    "start = 1 # 출력 위치\n",
    "\n",
    "url = f\"https://openapi.naver.com/v1/search/news.{encode_type}?query={search_word}&display={str(int(max_display))}&start={str(int(start))}&sort={sort}\"\n",
    "\n",
    "#헤더에 아이디와 키 정보 넣기\n",
    "headers = {'X-Naver-Client-Id' : client_id,\n",
    "           'X-Naver-Client-Secret':client_secret\n",
    "           }\n",
    "\n",
    "#HTTP요청 보내기\n",
    "r = requests.get(url, headers=headers)\n",
    "#요청 결과 보기 200 이면 정상적으로 요청 완료\n",
    "print(r)"
   ]
  },
  {
   "cell_type": "code",
   "execution_count": 92,
   "metadata": {
    "scrolled": true
   },
   "outputs": [
    {
     "data": {
      "text/plain": [
       "['https://news.naver.com/main/read.nhn?mode=LSD&mid=sec&sid1=102&oid=052&aid=0001447219',\n",
       " 'https://news.naver.com/main/read.nhn?mode=LSD&mid=sec&sid1=102&oid=056&aid=0010845828']"
      ]
     },
     "execution_count": 92,
     "metadata": {},
     "output_type": "execute_result"
    }
   ],
   "source": [
    "links = [x['link'] for x in r.json()['items'] if 'naver' in x['link']]\n",
    "links[:2]"
   ]
  },
  {
   "cell_type": "code",
   "execution_count": 82,
   "metadata": {},
   "outputs": [],
   "source": [
    "req = requests.get(links[0])\n",
    "html_parser = BeautifulSoup(req.content,'html.parser')"
   ]
  },
  {
   "cell_type": "code",
   "execution_count": 83,
   "metadata": {},
   "outputs": [],
   "source": [
    "title = html_parser.select('h3#articleTitle')[0].text\n",
    "contents = html_parser.select('#articleBodyContents')[0].get_text().replace('\\n', \"\")\n",
    "contents = contents.replace(\"// flash 오류를 우회하기 위한 함수 추가function _flash_removeCallback() {}\", \"\")\n",
    "contents = contents[:contents.find('▶')]"
   ]
  },
  {
   "cell_type": "code",
   "execution_count": 84,
   "metadata": {},
   "outputs": [
    {
     "name": "stdout",
     "output_type": "stream",
     "text": [
      "\"무료 시내버스는 복지\"...강원 정선 완전공영제 도입\n",
      "동영상 뉴스\t\t[앵커]노인 인구가 많은 강원도에서 처음으로 정선군이 시내버스 완전 공영제를 도입했습니다.시내버스 문제를 교통이 아닌 주민 복지 정책으로 접근했다고 하는데요.시행 첫날, 지 환 기자가 다녀왔습니다.[기자]읍내 5일 장에 가기 위해 시내버스를 타는 어르신들.6월부터 달라진 게 있습니다.적게는 1,400원, 많게는 5천 원이 넘던 시내버스 요금을 내지 않아도 됩니다.[정용순 / 강원 정선군 주민 : 좋죠. 뭐. (뭐가 제일 좋으세요?) 돈 안 들어가니 좋지. 늙은이들이 무슨 돈이 있어.]강원도 정선군이 시내버스 완전공영제를 도입했습니다.자치단체가 버스 회사를 인수해서 노선부터 배차 횟수까지 새로 정했는데 가장 달라진 건 요금입니다.65세 이상 어르신과 초·중·고등학생, 장애인, 기초수급권자 등은 무료,그 외 주민과 관광객은 무조건 1,000원입니다.[고재균 / 정선군 와와버스 기사 : 공용버스 되고 나서 많이 편리해졌다고 말씀하세요.(좋아하세요?) 네.]65세 이상 어르신 등 교통 약자에게 정선군은 무료 교통 카드를 보급했습니다.발급 대상자가 16,000명 정도인데, 정선군민 전체로 따져보면 10명 가운데 4명이 혜택을 받게 됩니다.필요한 예산은 한 해 35억 원, 정선군은 버스회사에 주던 손실보전금 24억 원에서 10억 원 정도를 더 마련할 계획입니다.노인 인구가 많은 만큼 시내버스를 교통 정책이 아닌 복지 정책으로 접근했습니다.[최승준 / 강원 정선군수 : 누구나 다 내가 어디든 가고 싶을 때 편리하게 이용할 수 있다는 차원에서 하나의 커다란 복지라고 보고 있는 것이죠.]춘천이나 원주 등 강원 지역뿐 아니라 전국 곳곳에서 완전공영제 논의가 이어지고 있습니다.강원도 내에서 처음 시행된 정선군의 교통 복지 실험이 어떤 결과를 가져올지 주목됩니다.YTN 지환[haji@ytn.co.kr]입니다.※ '당신의 제보가 뉴스가 됩니다' YTN은 여러분의 소중한 제보를 기다립니다.[카카오톡] YTN을 검색해 채널 추가 [전화] 02-398-8585 [메일] social@ytn.co.kr [온라인 제보] www.ytn.co.kr[저작권자(c) YTN & YTN PLUS 무단전재 및 재배포 금지] \n"
     ]
    }
   ],
   "source": [
    "print(title)\n",
    "print(contents)"
   ]
  },
  {
   "cell_type": "code",
   "execution_count": 116,
   "metadata": {
    "scrolled": true
   },
   "outputs": [
    {
     "name": "stdout",
     "output_type": "stream",
     "text": [
      "0\n",
      "100\n",
      "200\n"
     ]
    },
    {
     "ename": "KeyboardInterrupt",
     "evalue": "",
     "output_type": "error",
     "traceback": [
      "\u001b[1;31m---------------------------------------------------------------------------\u001b[0m",
      "\u001b[1;31mFileNotFoundError\u001b[0m                         Traceback (most recent call last)",
      "\u001b[1;32m~\\Anaconda3\\lib\\genericpath.py\u001b[0m in \u001b[0;36mexists\u001b[1;34m(path)\u001b[0m\n\u001b[0;32m     18\u001b[0m     \u001b[1;32mtry\u001b[0m\u001b[1;33m:\u001b[0m\u001b[1;33m\u001b[0m\u001b[1;33m\u001b[0m\u001b[0m\n\u001b[1;32m---> 19\u001b[1;33m         \u001b[0mos\u001b[0m\u001b[1;33m.\u001b[0m\u001b[0mstat\u001b[0m\u001b[1;33m(\u001b[0m\u001b[0mpath\u001b[0m\u001b[1;33m)\u001b[0m\u001b[1;33m\u001b[0m\u001b[1;33m\u001b[0m\u001b[0m\n\u001b[0m\u001b[0;32m     20\u001b[0m     \u001b[1;32mexcept\u001b[0m \u001b[0mOSError\u001b[0m\u001b[1;33m:\u001b[0m\u001b[1;33m\u001b[0m\u001b[1;33m\u001b[0m\u001b[0m\n",
      "\u001b[1;31mFileNotFoundError\u001b[0m: [WinError 2] 지정된 파일을 찾을 수 없습니다: 'C:\\\\Users\\\\Namsik/.netrc'",
      "\nDuring handling of the above exception, another exception occurred:\n",
      "\u001b[1;31mKeyboardInterrupt\u001b[0m                         Traceback (most recent call last)",
      "\u001b[1;32m<ipython-input-116-221ad1a17ad1>\u001b[0m in \u001b[0;36m<module>\u001b[1;34m\u001b[0m\n\u001b[0;32m     27\u001b[0m         \u001b[1;32mif\u001b[0m \u001b[0mi\u001b[0m\u001b[1;33m%\u001b[0m\u001b[1;36m100\u001b[0m\u001b[1;33m==\u001b[0m\u001b[1;36m0\u001b[0m\u001b[1;33m:\u001b[0m\u001b[0mprint\u001b[0m\u001b[1;33m(\u001b[0m\u001b[0mi\u001b[0m\u001b[1;33m)\u001b[0m\u001b[1;33m\u001b[0m\u001b[1;33m\u001b[0m\u001b[0m\n\u001b[0;32m     28\u001b[0m         \u001b[1;32mtry\u001b[0m\u001b[1;33m:\u001b[0m\u001b[1;33m\u001b[0m\u001b[1;33m\u001b[0m\u001b[0m\n\u001b[1;32m---> 29\u001b[1;33m             \u001b[0mreq\u001b[0m \u001b[1;33m=\u001b[0m \u001b[0mrequests\u001b[0m\u001b[1;33m.\u001b[0m\u001b[0mget\u001b[0m\u001b[1;33m(\u001b[0m\u001b[0mlink\u001b[0m\u001b[1;33m)\u001b[0m\u001b[1;33m\u001b[0m\u001b[1;33m\u001b[0m\u001b[0m\n\u001b[0m\u001b[0;32m     30\u001b[0m             \u001b[0mhtml_parser\u001b[0m \u001b[1;33m=\u001b[0m \u001b[0mBeautifulSoup\u001b[0m\u001b[1;33m(\u001b[0m\u001b[0mreq\u001b[0m\u001b[1;33m.\u001b[0m\u001b[0mcontent\u001b[0m\u001b[1;33m,\u001b[0m\u001b[1;34m'html.parser'\u001b[0m\u001b[1;33m)\u001b[0m\u001b[1;33m\u001b[0m\u001b[1;33m\u001b[0m\u001b[0m\n\u001b[0;32m     31\u001b[0m             \u001b[0mtitle\u001b[0m \u001b[1;33m=\u001b[0m \u001b[0mhtml_parser\u001b[0m\u001b[1;33m.\u001b[0m\u001b[0mselect\u001b[0m\u001b[1;33m(\u001b[0m\u001b[1;34m'h3#articleTitle'\u001b[0m\u001b[1;33m)\u001b[0m\u001b[1;33m[\u001b[0m\u001b[1;36m0\u001b[0m\u001b[1;33m]\u001b[0m\u001b[1;33m.\u001b[0m\u001b[0mtext\u001b[0m\u001b[1;33m\u001b[0m\u001b[1;33m\u001b[0m\u001b[0m\n",
      "\u001b[1;32m~\\Anaconda3\\lib\\site-packages\\requests\\api.py\u001b[0m in \u001b[0;36mget\u001b[1;34m(url, params, **kwargs)\u001b[0m\n\u001b[0;32m     73\u001b[0m \u001b[1;33m\u001b[0m\u001b[0m\n\u001b[0;32m     74\u001b[0m     \u001b[0mkwargs\u001b[0m\u001b[1;33m.\u001b[0m\u001b[0msetdefault\u001b[0m\u001b[1;33m(\u001b[0m\u001b[1;34m'allow_redirects'\u001b[0m\u001b[1;33m,\u001b[0m \u001b[1;32mTrue\u001b[0m\u001b[1;33m)\u001b[0m\u001b[1;33m\u001b[0m\u001b[1;33m\u001b[0m\u001b[0m\n\u001b[1;32m---> 75\u001b[1;33m     \u001b[1;32mreturn\u001b[0m \u001b[0mrequest\u001b[0m\u001b[1;33m(\u001b[0m\u001b[1;34m'get'\u001b[0m\u001b[1;33m,\u001b[0m \u001b[0murl\u001b[0m\u001b[1;33m,\u001b[0m \u001b[0mparams\u001b[0m\u001b[1;33m=\u001b[0m\u001b[0mparams\u001b[0m\u001b[1;33m,\u001b[0m \u001b[1;33m**\u001b[0m\u001b[0mkwargs\u001b[0m\u001b[1;33m)\u001b[0m\u001b[1;33m\u001b[0m\u001b[1;33m\u001b[0m\u001b[0m\n\u001b[0m\u001b[0;32m     76\u001b[0m \u001b[1;33m\u001b[0m\u001b[0m\n\u001b[0;32m     77\u001b[0m \u001b[1;33m\u001b[0m\u001b[0m\n",
      "\u001b[1;32m~\\Anaconda3\\lib\\site-packages\\requests\\api.py\u001b[0m in \u001b[0;36mrequest\u001b[1;34m(method, url, **kwargs)\u001b[0m\n\u001b[0;32m     58\u001b[0m     \u001b[1;31m# cases, and look like a memory leak in others.\u001b[0m\u001b[1;33m\u001b[0m\u001b[1;33m\u001b[0m\u001b[1;33m\u001b[0m\u001b[0m\n\u001b[0;32m     59\u001b[0m     \u001b[1;32mwith\u001b[0m \u001b[0msessions\u001b[0m\u001b[1;33m.\u001b[0m\u001b[0mSession\u001b[0m\u001b[1;33m(\u001b[0m\u001b[1;33m)\u001b[0m \u001b[1;32mas\u001b[0m \u001b[0msession\u001b[0m\u001b[1;33m:\u001b[0m\u001b[1;33m\u001b[0m\u001b[1;33m\u001b[0m\u001b[0m\n\u001b[1;32m---> 60\u001b[1;33m         \u001b[1;32mreturn\u001b[0m \u001b[0msession\u001b[0m\u001b[1;33m.\u001b[0m\u001b[0mrequest\u001b[0m\u001b[1;33m(\u001b[0m\u001b[0mmethod\u001b[0m\u001b[1;33m=\u001b[0m\u001b[0mmethod\u001b[0m\u001b[1;33m,\u001b[0m \u001b[0murl\u001b[0m\u001b[1;33m=\u001b[0m\u001b[0murl\u001b[0m\u001b[1;33m,\u001b[0m \u001b[1;33m**\u001b[0m\u001b[0mkwargs\u001b[0m\u001b[1;33m)\u001b[0m\u001b[1;33m\u001b[0m\u001b[1;33m\u001b[0m\u001b[0m\n\u001b[0m\u001b[0;32m     61\u001b[0m \u001b[1;33m\u001b[0m\u001b[0m\n\u001b[0;32m     62\u001b[0m \u001b[1;33m\u001b[0m\u001b[0m\n",
      "\u001b[1;32m~\\Anaconda3\\lib\\site-packages\\requests\\sessions.py\u001b[0m in \u001b[0;36mrequest\u001b[1;34m(self, method, url, params, data, headers, cookies, files, auth, timeout, allow_redirects, proxies, hooks, stream, verify, cert, json)\u001b[0m\n\u001b[0;32m    517\u001b[0m             \u001b[0mhooks\u001b[0m\u001b[1;33m=\u001b[0m\u001b[0mhooks\u001b[0m\u001b[1;33m,\u001b[0m\u001b[1;33m\u001b[0m\u001b[1;33m\u001b[0m\u001b[0m\n\u001b[0;32m    518\u001b[0m         )\n\u001b[1;32m--> 519\u001b[1;33m         \u001b[0mprep\u001b[0m \u001b[1;33m=\u001b[0m \u001b[0mself\u001b[0m\u001b[1;33m.\u001b[0m\u001b[0mprepare_request\u001b[0m\u001b[1;33m(\u001b[0m\u001b[0mreq\u001b[0m\u001b[1;33m)\u001b[0m\u001b[1;33m\u001b[0m\u001b[1;33m\u001b[0m\u001b[0m\n\u001b[0m\u001b[0;32m    520\u001b[0m \u001b[1;33m\u001b[0m\u001b[0m\n\u001b[0;32m    521\u001b[0m         \u001b[0mproxies\u001b[0m \u001b[1;33m=\u001b[0m \u001b[0mproxies\u001b[0m \u001b[1;32mor\u001b[0m \u001b[1;33m{\u001b[0m\u001b[1;33m}\u001b[0m\u001b[1;33m\u001b[0m\u001b[1;33m\u001b[0m\u001b[0m\n",
      "\u001b[1;32m~\\Anaconda3\\lib\\site-packages\\requests\\sessions.py\u001b[0m in \u001b[0;36mprepare_request\u001b[1;34m(self, request)\u001b[0m\n\u001b[0;32m    447\u001b[0m         \u001b[0mauth\u001b[0m \u001b[1;33m=\u001b[0m \u001b[0mrequest\u001b[0m\u001b[1;33m.\u001b[0m\u001b[0mauth\u001b[0m\u001b[1;33m\u001b[0m\u001b[1;33m\u001b[0m\u001b[0m\n\u001b[0;32m    448\u001b[0m         \u001b[1;32mif\u001b[0m \u001b[0mself\u001b[0m\u001b[1;33m.\u001b[0m\u001b[0mtrust_env\u001b[0m \u001b[1;32mand\u001b[0m \u001b[1;32mnot\u001b[0m \u001b[0mauth\u001b[0m \u001b[1;32mand\u001b[0m \u001b[1;32mnot\u001b[0m \u001b[0mself\u001b[0m\u001b[1;33m.\u001b[0m\u001b[0mauth\u001b[0m\u001b[1;33m:\u001b[0m\u001b[1;33m\u001b[0m\u001b[1;33m\u001b[0m\u001b[0m\n\u001b[1;32m--> 449\u001b[1;33m             \u001b[0mauth\u001b[0m \u001b[1;33m=\u001b[0m \u001b[0mget_netrc_auth\u001b[0m\u001b[1;33m(\u001b[0m\u001b[0mrequest\u001b[0m\u001b[1;33m.\u001b[0m\u001b[0murl\u001b[0m\u001b[1;33m)\u001b[0m\u001b[1;33m\u001b[0m\u001b[1;33m\u001b[0m\u001b[0m\n\u001b[0m\u001b[0;32m    450\u001b[0m \u001b[1;33m\u001b[0m\u001b[0m\n\u001b[0;32m    451\u001b[0m         \u001b[0mp\u001b[0m \u001b[1;33m=\u001b[0m \u001b[0mPreparedRequest\u001b[0m\u001b[1;33m(\u001b[0m\u001b[1;33m)\u001b[0m\u001b[1;33m\u001b[0m\u001b[1;33m\u001b[0m\u001b[0m\n",
      "\u001b[1;32m~\\Anaconda3\\lib\\site-packages\\requests\\utils.py\u001b[0m in \u001b[0;36mget_netrc_auth\u001b[1;34m(url, raise_errors)\u001b[0m\n\u001b[0;32m    183\u001b[0m                 \u001b[1;32mreturn\u001b[0m\u001b[1;33m\u001b[0m\u001b[1;33m\u001b[0m\u001b[0m\n\u001b[0;32m    184\u001b[0m \u001b[1;33m\u001b[0m\u001b[0m\n\u001b[1;32m--> 185\u001b[1;33m             \u001b[1;32mif\u001b[0m \u001b[0mos\u001b[0m\u001b[1;33m.\u001b[0m\u001b[0mpath\u001b[0m\u001b[1;33m.\u001b[0m\u001b[0mexists\u001b[0m\u001b[1;33m(\u001b[0m\u001b[0mloc\u001b[0m\u001b[1;33m)\u001b[0m\u001b[1;33m:\u001b[0m\u001b[1;33m\u001b[0m\u001b[1;33m\u001b[0m\u001b[0m\n\u001b[0m\u001b[0;32m    186\u001b[0m                 \u001b[0mnetrc_path\u001b[0m \u001b[1;33m=\u001b[0m \u001b[0mloc\u001b[0m\u001b[1;33m\u001b[0m\u001b[1;33m\u001b[0m\u001b[0m\n\u001b[0;32m    187\u001b[0m                 \u001b[1;32mbreak\u001b[0m\u001b[1;33m\u001b[0m\u001b[1;33m\u001b[0m\u001b[0m\n",
      "\u001b[1;32m~\\Anaconda3\\lib\\genericpath.py\u001b[0m in \u001b[0;36mexists\u001b[1;34m(path)\u001b[0m\n\u001b[0;32m     17\u001b[0m     \u001b[1;34m\"\"\"Test whether a path exists.  Returns False for broken symbolic links\"\"\"\u001b[0m\u001b[1;33m\u001b[0m\u001b[1;33m\u001b[0m\u001b[0m\n\u001b[0;32m     18\u001b[0m     \u001b[1;32mtry\u001b[0m\u001b[1;33m:\u001b[0m\u001b[1;33m\u001b[0m\u001b[1;33m\u001b[0m\u001b[0m\n\u001b[1;32m---> 19\u001b[1;33m         \u001b[0mos\u001b[0m\u001b[1;33m.\u001b[0m\u001b[0mstat\u001b[0m\u001b[1;33m(\u001b[0m\u001b[0mpath\u001b[0m\u001b[1;33m)\u001b[0m\u001b[1;33m\u001b[0m\u001b[1;33m\u001b[0m\u001b[0m\n\u001b[0m\u001b[0;32m     20\u001b[0m     \u001b[1;32mexcept\u001b[0m \u001b[0mOSError\u001b[0m\u001b[1;33m:\u001b[0m\u001b[1;33m\u001b[0m\u001b[1;33m\u001b[0m\u001b[0m\n\u001b[0;32m     21\u001b[0m         \u001b[1;32mreturn\u001b[0m \u001b[1;32mFalse\u001b[0m\u001b[1;33m\u001b[0m\u001b[1;33m\u001b[0m\u001b[0m\n",
      "\u001b[1;31mKeyboardInterrupt\u001b[0m: "
     ]
    }
   ],
   "source": [
    "## 자동화\n",
    "df = pd.DataFrame(columns=['title','contents'])\n",
    "client_id = \"7WzEkHSQpIcoVfIhnZOj\"\n",
    "client_secret = \"a4FoQabvG1\"\n",
    "\n",
    "search_word = '인천&시내버스' #검색어\n",
    "encode_type = 'json' #출력 방식 json 또는 xml\n",
    "max_display = 100 #출력 뉴스 수\n",
    "sort = 'date' #결과값의 정렬기준 시간순 date, 관련도 순 sim\n",
    "start = 1 # 출력 위치\n",
    "i=0\n",
    "\n",
    "while True:\n",
    "    url = f\"https://openapi.naver.com/v1/search/news.{encode_type}?query={search_word}&display={str(int(max_display))}&start={str(int(start))}&sort={sort}\"\n",
    "\n",
    "    #헤더에 아이디와 키 정보 넣기\n",
    "    headers = {'X-Naver-Client-Id' : client_id,\n",
    "               'X-Naver-Client-Secret':client_secret\n",
    "           }\n",
    "    #HTTP요청 보내기\n",
    "    r = requests.get(url, headers=headers)\n",
    "    #요청 결과 보기 200 이면 정상적으로 요청 완료\n",
    "    try:links = [x['link'] for x in r.json()['items'] if 'naver' in x['link']]\n",
    "    except KeyError:break\n",
    "        \n",
    "    for link in links:\n",
    "        if i%100==0:print(i)\n",
    "        try:\n",
    "            req = requests.get(link)\n",
    "            html_parser = BeautifulSoup(req.content,'html.parser')\n",
    "            title = html_parser.select('h3#articleTitle')[0].text\n",
    "            contents = html_parser.select('#articleBodyContents')[0].get_text().replace('\\n', \"\")\n",
    "            contents = contents.replace(\"// flash 오류를 우회하기 위한 함수 추가function _flash_removeCallback() {}\", \"\")\n",
    "            contents = contents[:contents.find('▶')]\n",
    "            df.loc[i] = [title,contents]\n",
    "            i+=1\n",
    "        except IndexError:continue\n",
    "    start+=1"
   ]
  },
  {
   "cell_type": "code",
   "execution_count": null,
   "metadata": {},
   "outputs": [],
   "source": [
    "df.to_csv('result.csv',encoding='euc-kr',index=False)"
   ]
  },
  {
   "cell_type": "code",
   "execution_count": null,
   "metadata": {},
   "outputs": [],
   "source": []
  }
 ],
 "metadata": {
  "kernelspec": {
   "display_name": "Python 3",
   "language": "python",
   "name": "python3"
  },
  "language_info": {
   "codemirror_mode": {
    "name": "ipython",
    "version": 3
   },
   "file_extension": ".py",
   "mimetype": "text/x-python",
   "name": "python",
   "nbconvert_exporter": "python",
   "pygments_lexer": "ipython3",
   "version": "3.7.4"
  }
 },
 "nbformat": 4,
 "nbformat_minor": 2
}
