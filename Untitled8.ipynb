{
  "nbformat": 4,
  "nbformat_minor": 0,
  "metadata": {
    "colab": {
      "name": "Untitled9.ipynb",
      "provenance": [],
      "toc_visible": true,
      "authorship_tag": "ABX9TyPLAvjAWk1IcTtRNsh+uDPB",
      "include_colab_link": true
    },
    "kernelspec": {
      "name": "python3",
      "display_name": "Python 3"
    }
  },
  "cells": [
    {
      "cell_type": "markdown",
      "metadata": {
        "id": "view-in-github",
        "colab_type": "text"
      },
      "source": [
        "<a href=\"https://colab.research.google.com/github/Namsik-Yoon/Namsik-Lab/blob/master/Untitled8.ipynb\" target=\"_parent\"><img src=\"https://colab.research.google.com/assets/colab-badge.svg\" alt=\"Open In Colab\"/></a>"
      ]
    },
    {
      "cell_type": "markdown",
      "metadata": {
        "id": "xUYNXQPsa8ok",
        "colab_type": "text"
      },
      "source": [
        "# 분석 데이터 가져오기 및 전처리"
      ]
    },
    {
      "cell_type": "code",
      "metadata": {
        "id": "CzJ8kUOxgN_p",
        "colab_type": "code",
        "colab": {
          "base_uri": "https://localhost:8080/",
          "height": 163
        },
        "outputId": "9f7d8feb-6450-495e-81f4-80a314d7782f"
      },
      "source": [
        "!pip install wget"
      ],
      "execution_count": 3,
      "outputs": [
        {
          "output_type": "stream",
          "text": [
            "Collecting wget\n",
            "  Downloading https://files.pythonhosted.org/packages/47/6a/62e288da7bcda82b935ff0c6cfe542970f04e29c756b0e147251b2fb251f/wget-3.2.zip\n",
            "Building wheels for collected packages: wget\n",
            "  Building wheel for wget (setup.py) ... \u001b[?25l\u001b[?25hdone\n",
            "  Created wheel for wget: filename=wget-3.2-cp36-none-any.whl size=9682 sha256=a27578cec23f1ec4cc1be7d14d65c561049e0f0c6f9d8d4384fd4c16a0fdb2ff\n",
            "  Stored in directory: /root/.cache/pip/wheels/40/15/30/7d8f7cea2902b4db79e3fea550d7d7b85ecb27ef992b618f3f\n",
            "Successfully built wget\n"
          ],
          "name": "stdout"
        }
      ]
    },
    {
      "cell_type": "code",
      "metadata": {
        "id": "Yha_OWjzgOEg",
        "colab_type": "code",
        "colab": {
          "base_uri": "https://localhost:8080/",
          "height": 35
        },
        "outputId": "942b016d-f202-4359-c55a-164a20ef3144"
      },
      "source": [
        "import wget\n",
        "wget.download('https://www.dropbox.com/s/6ua666mvi1p4gzh/sample_signal.txt?dl=1')"
      ],
      "execution_count": 100,
      "outputs": [
        {
          "output_type": "execute_result",
          "data": {
            "text/plain": [
              "'sample_signal.txt'"
            ]
          },
          "metadata": {
            "tags": []
          },
          "execution_count": 100
        }
      ]
    },
    {
      "cell_type": "code",
      "metadata": {
        "id": "sSLDIdlUgOGr",
        "colab_type": "code",
        "colab": {
          "base_uri": "https://localhost:8080/",
          "height": 224
        },
        "outputId": "115014ea-4973-4b6c-9da1-9307d5d596df"
      },
      "source": [
        "import pandas as pd\n",
        "use_cols = ['time','Ambient','EGSPD','VSPD_ajou','TQI_ACOR','TQI','Coolant','VSPD2','Fan_curr','C_Rad_in','C_Head','C_H\\C_out',\n",
        "            'Target_angle','Current_angle']\n",
        "\n",
        "target_name = ['Coolant']\n",
        "sample_df = pd.read_csv('sample_signal.txt',sep='\\t',skiprows=[1])\n",
        "sample_df = sample_df[use_cols]\n",
        "sample_df.head()"
      ],
      "execution_count": 101,
      "outputs": [
        {
          "output_type": "execute_result",
          "data": {
            "text/html": [
              "<div>\n",
              "<style scoped>\n",
              "    .dataframe tbody tr th:only-of-type {\n",
              "        vertical-align: middle;\n",
              "    }\n",
              "\n",
              "    .dataframe tbody tr th {\n",
              "        vertical-align: top;\n",
              "    }\n",
              "\n",
              "    .dataframe thead th {\n",
              "        text-align: right;\n",
              "    }\n",
              "</style>\n",
              "<table border=\"1\" class=\"dataframe\">\n",
              "  <thead>\n",
              "    <tr style=\"text-align: right;\">\n",
              "      <th></th>\n",
              "      <th>time</th>\n",
              "      <th>Ambient</th>\n",
              "      <th>EGSPD</th>\n",
              "      <th>VSPD_ajou</th>\n",
              "      <th>TQI_ACOR</th>\n",
              "      <th>TQI</th>\n",
              "      <th>Coolant</th>\n",
              "      <th>VSPD2</th>\n",
              "      <th>Fan_curr</th>\n",
              "      <th>C_Rad_in</th>\n",
              "      <th>C_Head</th>\n",
              "      <th>C_H\\C_out</th>\n",
              "      <th>Target_angle</th>\n",
              "      <th>Current_angle</th>\n",
              "    </tr>\n",
              "  </thead>\n",
              "  <tbody>\n",
              "    <tr>\n",
              "      <th>0</th>\n",
              "      <td>0.042003</td>\n",
              "      <td>29.5</td>\n",
              "      <td>0.0</td>\n",
              "      <td>0</td>\n",
              "      <td>51.5625</td>\n",
              "      <td>0.0</td>\n",
              "      <td>75.75</td>\n",
              "      <td>0.0</td>\n",
              "      <td>-0.623325</td>\n",
              "      <td>85.813</td>\n",
              "      <td>90.126</td>\n",
              "      <td>72.474</td>\n",
              "      <td>0.0</td>\n",
              "      <td>0.0</td>\n",
              "    </tr>\n",
              "    <tr>\n",
              "      <th>1</th>\n",
              "      <td>0.052022</td>\n",
              "      <td>29.5</td>\n",
              "      <td>0.0</td>\n",
              "      <td>0</td>\n",
              "      <td>51.5625</td>\n",
              "      <td>0.0</td>\n",
              "      <td>75.75</td>\n",
              "      <td>0.0</td>\n",
              "      <td>-0.623325</td>\n",
              "      <td>85.813</td>\n",
              "      <td>90.126</td>\n",
              "      <td>72.474</td>\n",
              "      <td>0.0</td>\n",
              "      <td>0.0</td>\n",
              "    </tr>\n",
              "    <tr>\n",
              "      <th>2</th>\n",
              "      <td>0.062091</td>\n",
              "      <td>29.5</td>\n",
              "      <td>0.0</td>\n",
              "      <td>0</td>\n",
              "      <td>51.5625</td>\n",
              "      <td>0.0</td>\n",
              "      <td>75.75</td>\n",
              "      <td>0.0</td>\n",
              "      <td>-0.623325</td>\n",
              "      <td>85.813</td>\n",
              "      <td>90.126</td>\n",
              "      <td>72.474</td>\n",
              "      <td>0.0</td>\n",
              "      <td>0.0</td>\n",
              "    </tr>\n",
              "    <tr>\n",
              "      <th>3</th>\n",
              "      <td>0.072227</td>\n",
              "      <td>29.5</td>\n",
              "      <td>0.0</td>\n",
              "      <td>0</td>\n",
              "      <td>51.5625</td>\n",
              "      <td>0.0</td>\n",
              "      <td>75.75</td>\n",
              "      <td>0.0</td>\n",
              "      <td>-0.635830</td>\n",
              "      <td>85.813</td>\n",
              "      <td>90.126</td>\n",
              "      <td>72.474</td>\n",
              "      <td>0.0</td>\n",
              "      <td>0.0</td>\n",
              "    </tr>\n",
              "    <tr>\n",
              "      <th>4</th>\n",
              "      <td>0.082005</td>\n",
              "      <td>29.5</td>\n",
              "      <td>0.0</td>\n",
              "      <td>0</td>\n",
              "      <td>51.5625</td>\n",
              "      <td>0.0</td>\n",
              "      <td>75.75</td>\n",
              "      <td>0.0</td>\n",
              "      <td>-0.631047</td>\n",
              "      <td>85.813</td>\n",
              "      <td>90.126</td>\n",
              "      <td>72.474</td>\n",
              "      <td>0.0</td>\n",
              "      <td>0.0</td>\n",
              "    </tr>\n",
              "  </tbody>\n",
              "</table>\n",
              "</div>"
            ],
            "text/plain": [
              "       time  Ambient  EGSPD  ...  C_H\\C_out  Target_angle  Current_angle\n",
              "0  0.042003     29.5    0.0  ...     72.474           0.0            0.0\n",
              "1  0.052022     29.5    0.0  ...     72.474           0.0            0.0\n",
              "2  0.062091     29.5    0.0  ...     72.474           0.0            0.0\n",
              "3  0.072227     29.5    0.0  ...     72.474           0.0            0.0\n",
              "4  0.082005     29.5    0.0  ...     72.474           0.0            0.0\n",
              "\n",
              "[5 rows x 14 columns]"
            ]
          },
          "metadata": {
            "tags": []
          },
          "execution_count": 101
        }
      ]
    },
    {
      "cell_type": "markdown",
      "metadata": {
        "id": "0u7JF_rFgFpL",
        "colab_type": "text"
      },
      "source": [
        "# 분석 도구 정의 및 서론"
      ]
    },
    {
      "cell_type": "markdown",
      "metadata": {
        "id": "jhSuw-ogbBg5",
        "colab_type": "text"
      },
      "source": [
        "## **ARIMA(Autoregressive Integrated Moving Average)**\n",
        "\n",
        "ARIMA는 Autoregressive Integrated Moving Average의 약자로 Autoregressive는 자기회귀모형을 의미하고, Moving Average는 이동평균모형을 의미한다."
      ]
    },
    {
      "cell_type": "markdown",
      "metadata": {
        "id": "tYnzW3xRscQy",
        "colab_type": "text"
      },
      "source": [
        "### AutoRegressive 모형\n",
        "\n",
        "자기회귀모형이란, 변수의 과거값의 선형 조합을 이용하여 관심있는 변수를 예측하는 모델이다. 따라서 차수 $p$의 자기회귀모형은 다음과 같이 쓸수있음.\n",
        "\n",
        "$y_{t} = c + \\phi_{1}y_{t-1} + \\phi_{2}y_{t-2} + \\dots + \\phi_{p}y_{t-p} + \\varepsilon_{t}$\n",
        "\n",
        "여기에서 $\\varepsilon_{t}$는 백색잡음(white noise)이다. $y_t$의 시차 값 $y_{t-n}$을 예측변수로 다루는것만 제외하면 다중회귀처럼 구성되어 있으며 이러한 모델을 $AR(p)$ 모델이라 한다.\n",
        "\n",
        "자기회귀모형은 다양한 종류의 서로 다른 시계열 패턴을 매우 유연하게 다룰 수 있으며 아래 코드는 모델 구성 예시이다."
      ]
    },
    {
      "cell_type": "code",
      "metadata": {
        "id": "bl6snzuybA3L",
        "colab_type": "code",
        "colab": {}
      },
      "source": [
        "import numpy as np\n",
        "import matplotlib.pyplot as plt\n",
        "\n",
        "def AR_model_1(y,t):\n",
        "    c = 18\n",
        "    phi_1 = 0.8\n",
        "    for i in range(t):\n",
        "        e_t = np.random.normal(0,1)\n",
        "        y_t = c + phi_1*y[-1] + e_t\n",
        "        y.append(y_t)\n",
        "    return y[1:]\n",
        "\n",
        "def AR_model_2(y,t):\n",
        "    c = 18\n",
        "    phi_1 = 1.3\n",
        "    phi_2 = -0.7\n",
        "\n",
        "    for i in range(t):\n",
        "        e_t = np.random.normal(0,1)\n",
        "        y_t = c + phi_1*y[-1] + phi_2*y[-2]+e_t\n",
        "        y.append(y_t)\n",
        "    return y[2:]"
      ],
      "execution_count": 96,
      "outputs": []
    },
    {
      "cell_type": "code",
      "metadata": {
        "id": "Irts6D2mlN9m",
        "colab_type": "code",
        "colab": {
          "base_uri": "https://localhost:8080/",
          "height": 265
        },
        "outputId": "3b3fd2be-90c5-402f-c2c8-130974eaca13"
      },
      "source": [
        "y1 = [0]\n",
        "y2 = [0,0]\n",
        "\n",
        "\n",
        "y_pred1 = AR_model_1(y1,100)\n",
        "y_pred2 = AR_model_2(y2,100)\n",
        "\n",
        "\n",
        "plt.plot(y_pred1,label='AR_model_1')\n",
        "plt.plot(y_pred2,label='AR_model_2')\n",
        "plt.legend()\n",
        "plt.grid()\n",
        "plt.show()"
      ],
      "execution_count": 97,
      "outputs": [
        {
          "output_type": "display_data",
          "data": {
            "image/png": "[encoded data removed]",
            "text/plain": [
              "<Figure size 432x288 with 1 Axes>"
            ]
          },
          "metadata": {
            "tags": [],
            "needs_background": "light"
          }
        }
      ]
    },
    {
      "cell_type": "markdown",
      "metadata": {
        "id": "mQAxaHRuqE9U",
        "colab_type": "text"
      },
      "source": [
        "model1 = $y_t = 18 -0.8y_{t-1} + \\varepsilon$\n",
        "\n",
        "model2 = $y_t = 18 + 1.3y_{t-1}-0.7y_{t-2}+\\varepsilon$\n",
        "\n",
        "\n",
        "$ \\varepsilon = N(0,1)$\n",
        "\n",
        "model1은 :\n",
        "\n",
        "\n",
        "*   $\\phi_1=0$ 일 때, $y_t$는 백색잡음과 같음\n",
        "\n",
        "*   $\\phi_1=1이고, c=0$ 일 때, $y_t$는 확률보행 모델과 같음\n",
        "\n",
        "*   $\\phi_1=1이고, c\\ne0$ 일 떄, $y_t$는 표류가 있는 확률보행 모델과 같음\n",
        "*   $\\phi_1<0$ 일 때, $y_t$는 평균값을 중심으로 진동하는 경향을 나타냄\n",
        "\n",
        "보통은 자기회귀모델을 정상성을 나타내는 데이터만 사용하며 이 경우 매개 변수값에 대한 몇몇 제한조건이 필요함\n",
        "\n",
        "\n",
        "*   AR(1) 모델의 경우 : $ -1 < \\phi_1 < 1$\n",
        "\n",
        "*   AR(2) 모델의 경우 : $ -1 < \\phi_1 < 1$, $\\phi_1+\\phi_2 < 1$, $\\phi_1-\\phi_2 < 1$\n",
        "\n",
        "$p\\ge3$일 때는, 제한조건이 훨씬 더 복잡함\n",
        "\n"
      ]
    },
    {
      "cell_type": "markdown",
      "metadata": {
        "id": "t-OEMtHLspiE",
        "colab_type": "text"
      },
      "source": [
        "### Moving Average 모형\n",
        "\n",
        "이동평균모델은 회귀에서 목표예상변수(forecast variable,$y_{t}$)의 과거값($y_{t-n}$)을 이용하는 대신 회귀처럼 보이는 모델에서 과거예측오차(forecast error)를 이용함\n",
        "\n",
        "$y_{t} = c + \\varepsilon_t + \\theta_{1}\\varepsilon_{t-1} + \\theta_{2}\\varepsilon_{t-2} + \\dots + \\theta_{q}\\varepsilon_{t-q}$\n",
        "\n",
        "여기에서 $\\varepsilon_t$는 백색잡음이며 이것을 $q$차 이동평균모델 MA(q)라 부름. 물론,  $\\varepsilon_t$의 값을 관찰하지 않기 떄문에, 실제로는 보통 생각하는 회귀가 아님"
      ]
    },
    {
      "cell_type": "code",
      "metadata": {
        "id": "B1_GDrWGu0i_",
        "colab_type": "code",
        "colab": {}
      },
      "source": [
        "def MA_model_1(y,t):\n",
        "    c = 20\n",
        "    phi_1 = 0.8\n",
        "    e = [np.random.normal(0,1)]\n",
        "    for i in range(t):\n",
        "        e_t = np.random.normal(0,1)\n",
        "        y_t = c + phi_1*e[-1] + e_t\n",
        "        y.append(y_t)\n",
        "    return y\n",
        "\n",
        "def MA_model_2(y,t):\n",
        "    c = 0\n",
        "    phi_1 = -1\n",
        "    phi_2 = 0.8\n",
        "    e = [np.random.normal(0,1),np.random.normal(0,1)]\n",
        "    for i in range(t):\n",
        "        e_t = np.random.normal(0,1)\n",
        "        y_t = c + phi_1*e[-1] + phi_2*e[-2] + e_t\n",
        "        y.append(y_t)\n",
        "    return y"
      ],
      "execution_count": 94,
      "outputs": []
    },
    {
      "cell_type": "code",
      "metadata": {
        "id": "Mhl28QaTw0wv",
        "colab_type": "code",
        "colab": {
          "base_uri": "https://localhost:8080/",
          "height": 265
        },
        "outputId": "1ec5494a-d21c-400c-aff0-231d491fdd98"
      },
      "source": [
        "y_pred1 = MA_model_1([],100)\n",
        "y_pred2 = MA_model_2([],100)\n",
        "\n",
        "\n",
        "plt.plot(y_pred1,label='MA_model_1')\n",
        "plt.plot(y_pred2,label='MA_model_2')\n",
        "plt.legend()\n",
        "plt.grid()\n",
        "plt.show()"
      ],
      "execution_count": 95,
      "outputs": [
        {
          "output_type": "display_data",
          "data": {
            "image/png": "[encoded data removed]",
            "text/plain": [
              "<Figure size 432x288 with 1 Axes>"
            ]
          },
          "metadata": {
            "tags": [],
            "needs_background": "light"
          }
        }
      ]
    },
    {
      "cell_type": "markdown",
      "metadata": {
        "id": "Qxlr9VmQxm90",
        "colab_type": "text"
      },
      "source": [
        "model1 : $y_t = 20 + \\varepsilon_t + 0.8\\varepsilon_{t-1}$\n",
        "\n",
        "model2 : $y_t = \\varepsilon_t- \\varepsilon_{t-1}+0.8\\varepsilon_{t-2}$\n",
        "\n",
        "$ \\varepsilon_t = N(0,1)$\n",
        "\n",
        "위 두 모델의 매개변수 $\\theta_1,\\dots,\\theta_q$을 바꾸면 다른 시계열 패턴을 나타냄. 자기회귀모델(AR)을 이용하는 경우처럼, 오차항 $\\varepsilon_t$의 분산은 시계열의 패턴이 아니라 눈금만 바꿈\n",
        "\n",
        "정상성을 나타내는 어떤 AR(p)모델을 MA($\\infty$) 모델로 쓸 수 있음. 예를들어, 반복하여 대입하면, 이렇게 바꿔쓰는 과정을 AR(1) 모델에 대해 다음과 같이 나타낼수있음.\n",
        "\n",
        "$\\begin{align*}\n",
        "y_t &= \\phi_1y_{t-1} + \\varepsilon_t\\\\\n",
        "&= \\phi_1(\\phi_1y_{t-2} + \\varepsilon_{t-1}) + \\varepsilon_t\\\\\n",
        "&= \\phi_1^2y_{t-2} + \\phi_1 \\varepsilon_{t-1} + \\varepsilon_t\\\\\n",
        "&= \\phi_1^3y_{t-3} + \\phi_1^2 \\varepsilon_{t-2} + \\phi_1 \\varepsilon_{t-1} + \\varepsilon_t\\\\\n",
        "&\\text{etc.}\n",
        "\\end{align*}$\n",
        "\n",
        "$-1 < \\phi_1 < 1$에 대해, k가 커질 수록 $\\phi_1^k$의 값이 작아질것이며 결국 다음과 같은식을 얻을 수 있음(이것을 직관적으로 이해하면, 과거로 돌아갈수록 현재에 미치는 영향은 줄어든다라고 이해가능함) \n",
        "\n",
        "$y_t = \\varepsilon_t + \\phi_1 \\varepsilon_{t-1} + \\phi_1^2 \\varepsilon_{t-2} + \\phi_1^3 \\varepsilon_{t-3} + \\cdots,$\n",
        "\n",
        "\n",
        "MA 매개변수에 대한 몇몇 제한조건을 도입하면 반대 결과도 성립한다. 그러면 MA 모델을 가역적(invertible)이라고 부릅니다. 즉, 어떤 가역적인 MA(q)과정을 AR($\\infty$)과정으로 쓸 수 있다.\n",
        " 가역적 모델은 단순하게 MA 모델을 AR 모델로 바꿀 수 있도록 하는 것만은 아니고, 몇 가지 수학적인 특징도 갖고 있다.\n",
        "\n",
        " 예를 들어, MA(1) 과정 $y_{t} = e_t + \\theta_{1}e_{t-1}$을 AR($\\infty$)로 표현하면, 가장최근의 오차는 현재와 과거 관측값의 선형함수로 쓸 수 있음.\n",
        "\n",
        "$e_t = \\sum_{j=0}^\\infty (-\\theta)^j y_{t-j}$\n",
        "\n",
        "$|\\theta| > 1$ 이면, 가중치의 시차(lag) 값이 증가함에 따라 증가하고, 따라서 더 멀리 떨어진 관측값일 수록 현재 오차에 미치는 영향이 커진다. $|\\theta| = 1$ 면, 가중치가 크기에 대해 상수이고, 멀리 떨어진 관측값과 가까운 관측값 모두 같은 영향을 미친다. 앞의 두 경우 모두 그럴듯하지 않기 때문에, $|\\theta| < 1$가 필요하고, 따라서 가장 최근 관측값이 멀리 떨어진 관측값보다 더 큰 가중치를 갖게된다. 따라서, $|\\theta| < 1$ 일 때, 과정은 가역적(invertible)이다.\n",
        "\n",
        "다른 모델에 대한 가역성(invertibility) 제한조건은 정상성(stationarity) 제한조건과 비슷하다.\n",
        "\n",
        "*   MA(1) 모델의 경우 : $ -1 < \\theta_1 < 1$\n",
        "\n",
        "*   MA(2) 모델의 경우 : $ -1 < \\phi_1 < 1$, $\\theta_1+\\theta_2 < 1$, $\\theta_1-\\theta_2 < 1$\n",
        "\n",
        "$q\\ge3$일 때는, 제한조건이 훨씬 더 복잡함\n",
        " "
      ]
    },
    {
      "cell_type": "markdown",
      "metadata": {
        "id": "1z7fnfwD85J4",
        "colab_type": "text"
      },
      "source": [
        "### ARIMA 모형\n",
        "\n",
        "일반적인 정상 ARIMA(p,d,q) 모형은 AR과 MA 모형을 결합한 모형이며 다음 방정식을 따른다.\n",
        "\n",
        "$\\begin{equation}\n",
        "  y'_{t} = c + \\phi_{1}y'_{t-1} + \\cdots + \\phi_{p}y'_{t-p}\n",
        "     + \\theta_{1}\\varepsilon_{t-1} + \\cdots + \\theta_{q}\\varepsilon_{t-q} + \\varepsilon_{t}\n",
        "\\end{equation}$\n",
        "\n",
        "p,d,q는 하이퍼파라미터이며 적절한 값을 골라주어야한다\n",
        "\n",
        "*   p = 자기회귀 부분의 차수\n",
        "\n",
        "*   d = 1차 차분이 포함된 정도\n",
        "*   q = 이동 평균 부분의 차수\n",
        "\n",
        "ARIMA는 AR모형과 MA모형의 성질을 그대로 유지한다.\n",
        "\n",
        "아래는 ARIMA모형을 바탕으로 sample_df의 Coolant를 예측하는 과정이다.\n"
      ]
    }
  ]
}