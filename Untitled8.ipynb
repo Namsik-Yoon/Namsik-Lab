{
  "nbformat": 4,
  "nbformat_minor": 0,
  "metadata": {
    "colab": {
      "name": "Untitled8.ipynb",
      "provenance": [],
      "authorship_tag": "ABX9TyOEAZGOIrwy1IMzRP2TAPVd",
      "include_colab_link": true
    },
    "kernelspec": {
      "name": "python3",
      "display_name": "Python 3"
    }
  },
  "cells": [
    {
      "cell_type": "markdown",
      "metadata": {
        "id": "view-in-github",
        "colab_type": "text"
      },
      "source": [
        "<a href=\"https://colab.research.google.com/github/Namsik-Yoon/Namsik-Lab/blob/master/Untitled8.ipynb\" target=\"_parent\"><img src=\"https://colab.research.google.com/assets/colab-badge.svg\" alt=\"Open In Colab\"/></a>"
      ]
    },
    {
      "cell_type": "markdown",
      "metadata": {
        "id": "UoKTImJDe52i",
        "colab_type": "text"
      },
      "source": [
        "## Dataset : GTZAN Collection\n",
        "\n",
        "This dataset was used for the well known paper in genre classification \" Musical genre classification of audio signals \" by G. Tzanetakis and P. Cook in IEEE Transactions on Audio and Speech Processing 2002.\n",
        "\n",
        "The dataset consists of 1000 audio tracks each 30 seconds long. It contains 10 genres, each represented by 100 tracks. The tracks are all 22050Hz Mono 16-bit audio files in .wav format."
      ]
    },
    {
      "cell_type": "code",
      "metadata": {
        "id": "lJPEDlybh6J-",
        "colab_type": "code",
        "colab": {
          "base_uri": "https://localhost:8080/",
          "height": 105
        },
        "outputId": "4b80aa96-68e9-4ef8-9317-0f8efd9ad915"
      },
      "source": [
        "import os\n",
        "!git clone https://github.com/Dohppak/Music_Genre_Classification_Pytorch.git\n",
        "os.chdir('/content/Music_Genre_Classification_Pytorch')"
      ],
      "execution_count": 18,
      "outputs": [
        {
          "output_type": "stream",
          "text": [
            "Cloning into 'Music_Genre_Classification_Pytorch'...\n",
            "remote: Enumerating objects: 146, done.\u001b[K\n",
            "remote: Total 146 (delta 0), reused 0 (delta 0), pack-reused 146\u001b[K\n",
            "Receiving objects: 100% (146/146), 1.43 MiB | 1.30 MiB/s, done.\n",
            "Resolving deltas: 100% (65/65), done.\n"
          ],
          "name": "stdout"
        }
      ]
    },
    {
      "cell_type": "code",
      "metadata": {
        "id": "mLxdUaFunqyr",
        "colab_type": "code",
        "colab": {}
      },
      "source": [
        "!wget http://opihi.cs.uvic.ca/sound/genres.tar.gz\n",
        "!tar -xvf  '/content/genres.tar.gz' -C '/content/Music_Genre_Classification_Pytorch/dataset/gtzan'"
      ],
      "execution_count": null,
      "outputs": []
    },
    {
      "cell_type": "code",
      "metadata": {
        "id": "6-Auzninj2u9",
        "colab_type": "code",
        "colab": {
          "base_uri": "https://localhost:8080/",
          "height": 562
        },
        "outputId": "0d5bda71-483c-4377-a517-0037a843ad8a"
      },
      "source": [
        "!python Music_Genre_Classification_Pytorch/audio_augmentation.py"
      ],
      "execution_count": 19,
      "outputs": [
        {
          "output_type": "stream",
          "text": [
            "----------------------\n",
            "Hyper Paarameter Settings\n",
            "----------------------\n",
            "dataset_path:./dataset/gtzan\n",
            "feature_path:./dataset/feature_augment\n",
            "genres:['classical', 'country', 'disco', 'hiphop', 'jazz', 'metal', 'pop', 'reggae']\n",
            "sample_rate:22050\n",
            "fft_size:1024\n",
            "win_size:1024\n",
            "hop_size:512\n",
            "num_mels:128\n",
            "feature_length:1024\n",
            "device:1\n",
            "batch_size:128\n",
            "num_epochs:26\n",
            "learning_rate:0.01\n",
            "stopping_rate:1e-05\n",
            "weight_decay:1e-06\n",
            "momentum:0.9\n",
            "factor:0.2\n",
            "patience:5\n",
            "----------------------\n",
            "Augmentation\n",
            "finished\n",
            "finished\n",
            "finished\n",
            "finished\n",
            "finished\n",
            "finished\n",
            "finished\n",
            "finished\n"
          ],
          "name": "stdout"
        }
      ]
    },
    {
      "cell_type": "code",
      "metadata": {
        "id": "k8t_xMzzl1Zv",
        "colab_type": "code",
        "colab": {
          "base_uri": "https://localhost:8080/",
          "height": 668
        },
        "outputId": "79615b50-abd1-4b92-b7c4-92fad9a505e2"
      },
      "source": [
        "!python Music_Genre_Classification_Pytorch/feature_extraction.py"
      ],
      "execution_count": 20,
      "outputs": [
        {
          "output_type": "stream",
          "text": [
            "----------------------\n",
            "Hyper Paarameter Settings\n",
            "----------------------\n",
            "dataset_path:./dataset/gtzan\n",
            "feature_path:./dataset/feature_augment\n",
            "genres:['classical', 'country', 'disco', 'hiphop', 'jazz', 'metal', 'pop', 'reggae']\n",
            "sample_rate:22050\n",
            "fft_size:1024\n",
            "win_size:1024\n",
            "hop_size:512\n",
            "num_mels:128\n",
            "feature_length:1024\n",
            "device:1\n",
            "batch_size:128\n",
            "num_epochs:26\n",
            "learning_rate:0.01\n",
            "stopping_rate:1e-05\n",
            "weight_decay:1e-06\n",
            "momentum:0.9\n",
            "factor:0.2\n",
            "patience:5\n",
            "----------------------\n",
            "Extracting Feature\n",
            "Traceback (most recent call last):\n",
            "  File \"Music_Genre_Classification_Pytorch/feature_extraction.py\", line 59, in <module>\n",
            "    main()\n",
            "  File \"Music_Genre_Classification_Pytorch/feature_extraction.py\", line 40, in main\n",
            "    feature = melspectrogram(file_name, hparams)\n",
            "  File \"Music_Genre_Classification_Pytorch/feature_extraction.py\", line 13, in melspectrogram\n",
            "    y, sr = librosa.load(os.path.join(hparams.dataset_path, file_name), hparams.sample_rate)\n",
            "  File \"/usr/local/lib/python3.6/dist-packages/librosa/core/audio.py\", line 119, in load\n",
            "    with audioread.audio_open(os.path.realpath(path)) as input_file:\n",
            "  File \"/usr/local/lib/python3.6/dist-packages/audioread/__init__.py\", line 111, in audio_open\n",
            "    return BackendClass(path)\n",
            "  File \"/usr/local/lib/python3.6/dist-packages/audioread/rawread.py\", line 62, in __init__\n",
            "    self._fh = open(filename, 'rb')\n",
            "FileNotFoundError: [Errno 2] No such file or directory: '/content/Music_Genre_Classification_Pytorch/dataset/gtzan/classical/classical.00030.wav'\n"
          ],
          "name": "stdout"
        }
      ]
    },
    {
      "cell_type": "code",
      "metadata": {
        "id": "nxessPNyl-IW",
        "colab_type": "code",
        "colab": {}
      },
      "source": [
        ""
      ],
      "execution_count": null,
      "outputs": []
    }
  ]
}